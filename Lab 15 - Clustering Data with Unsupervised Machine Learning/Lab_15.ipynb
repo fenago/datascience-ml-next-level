{
 "cells": [
  {
   "cell_type": "markdown",
   "metadata": {},
   "source": [
    "# Clustering data with Unsupervised Machine Learning\n",
    "\n",
    "**Aim**: The aim of this notebook is to cluster data into distinct groups or clusters when the data has no labels using Unsupervised Machine Learning Techniques. \n",
    "\n",
    "## Table of contents \n",
    "\n",
    "1. Implementing the K-Means algorithm in scikit-learn\n",
    "2. Feature Engineering for optimization\n",
    "3. Cluster Visualization\n",
    "4. Unsupervised to Supervised Learning"
   ]
  },
  {
   "cell_type": "markdown",
   "metadata": {},
   "source": [
    "## Package Requirements"
   ]
  },
  {
   "cell_type": "code",
   "execution_count": null,
   "metadata": {},
   "outputs": [],
   "source": [
    "import pandas as pd\n",
    "import seaborn as sns\n",
    "import numpy as np\n",
    "import matplotlib.pyplot as plt \n",
    "from sklearn.cluster import KMeans\n",
    "from sklearn.preprocessing import StandardScaler\n",
    "from sklearn.decomposition import PCA\n",
    "from scipy.cluster.hierarchy import linkage\n",
    "from scipy.cluster.hierarchy import dendrogram\n",
    "from sklearn.tree import DecisionTreeClassifier\n",
    "from sklearn.externals.six import StringIO\n",
    "from IPython.display import Image\n",
    "from sklearn.tree import export_graphviz\n",
    "import pydotplus\n",
    "from sklearn import tree\n",
    "from sklearn.manifold import TSNE\n",
    "import warnings\n",
    "warnings.simplefilter(action='ignore', category=Warning)"
   ]
  },
  {
   "cell_type": "markdown",
   "metadata": {},
   "source": [
    "**Data Cleaning**"
   ]
  },
  {
   "cell_type": "code",
   "execution_count": null,
   "metadata": {},
   "outputs": [],
   "source": [
    "#Reading in the dataset\n",
    "\n",
    "df = pd.read_csv('fraud_prediction.csv')\n",
    "\n",
    "#Dropping the target feature & the index\n",
    "\n",
    "df = df.drop(['Unnamed: 0', 'isFraud'], axis = 1)"
   ]
  },
  {
   "cell_type": "markdown",
   "metadata": {},
   "source": [
    "## Implementing the K-Means algorithm in scikit-learn"
   ]
  },
  {
   "cell_type": "code",
   "execution_count": null,
   "metadata": {},
   "outputs": [],
   "source": [
    "#Initializing K-means with 2 clusters\n",
    "\n",
    "k_means = KMeans(n_clusters = 2)\n",
    "\n",
    "#Fitting the model on the data\n",
    "\n",
    "k_means.fit(df)"
   ]
  },
  {
   "cell_type": "code",
   "execution_count": null,
   "metadata": {},
   "outputs": [],
   "source": [
    "#Extracting labels \n",
    "\n",
    "target_labels = k_means.predict(df)\n",
    "\n",
    "#Printing the labels\n",
    "\n",
    "target_labels"
   ]
  },
  {
   "cell_type": "markdown",
   "metadata": {},
   "source": [
    "**Evaluating the inertia of the model**"
   ]
  },
  {
   "cell_type": "code",
   "execution_count": null,
   "metadata": {},
   "outputs": [],
   "source": [
    "# Inertia of present model\n",
    "\n",
    "k_means.inertia_"
   ]
  },
  {
   "cell_type": "code",
   "execution_count": null,
   "metadata": {},
   "outputs": [],
   "source": [
    "#Initialize a list of clusters from 1 to 10 clusters \n",
    "\n",
    "clusters = [1,2,3,4,5,6,7,8,9,10]\n",
    "\n",
    "#Create an empty list in order to store the inertia values \n",
    "\n",
    "inertia_values = []\n",
    "\n",
    "for cluster in clusters:\n",
    "    \n",
    "    #Build a k-means model for each cluster value\n",
    "    \n",
    "    k_means = KMeans(n_clusters = cluster)\n",
    "    \n",
    "    #Fit the model to the data\n",
    "    \n",
    "    k_means.fit(df)\n",
    "    \n",
    "    # Store inertia value of each model into the empty list \n",
    "    \n",
    "    inertia_values.append(k_means.inertia_)\n",
    "    \n",
    "# Plot the result\n",
    "\n",
    "sns.lineplot(x = clusters, y = inertia_values)\n",
    "plt.xlabel('Number of Clusters')\n",
    "plt.ylabel('Inertia Value')\n",
    "plt.title('Number of Clusters Vs. Inertia Values')\n",
    "plt.show()"
   ]
  },
  {
   "cell_type": "markdown",
   "metadata": {},
   "source": [
    "## Feature Engineering for optimization"
   ]
  },
  {
   "cell_type": "markdown",
   "metadata": {},
   "source": [
    "**Scaling**"
   ]
  },
  {
   "cell_type": "code",
   "execution_count": null,
   "metadata": {},
   "outputs": [],
   "source": [
    "#Setting up the standard scaler \n",
    "\n",
    "scale_data = StandardScaler()\n",
    "\n",
    "#Scaling the data\n",
    "\n",
    "scale_data.fit(df)\n",
    "\n",
    "df_scaled = scale_data.transform(df)"
   ]
  },
  {
   "cell_type": "code",
   "execution_count": null,
   "metadata": {},
   "outputs": [],
   "source": [
    "#Applying the K-Means algorithm on the scaled data\n",
    "\n",
    "#Initializing K-means with 2 clusters\n",
    "\n",
    "k_means = KMeans(n_clusters = 2)\n",
    "\n",
    "#Fitting the model on the data\n",
    "\n",
    "k_means.fit(df_scaled)"
   ]
  },
  {
   "cell_type": "code",
   "execution_count": null,
   "metadata": {},
   "outputs": [],
   "source": [
    "# Inertia of present model\n",
    "\n",
    "k_means.inertia_"
   ]
  },
  {
   "cell_type": "markdown",
   "metadata": {},
   "source": [
    "**Finding the optimal number of clusters post scaling**"
   ]
  },
  {
   "cell_type": "code",
   "execution_count": null,
   "metadata": {},
   "outputs": [],
   "source": [
    "#Initialize a list of clusters from 1 to 10 clusters \n",
    "\n",
    "clusters = [1,2,3,4,5,6,7,8,9,10]\n",
    "\n",
    "#Create an empty list in order to store the inertia values \n",
    "\n",
    "inertia_values = []\n",
    "\n",
    "for cluster in clusters:\n",
    "    \n",
    "    #Build a k-means model for each cluster value\n",
    "    \n",
    "    k_means = KMeans(n_clusters = cluster)\n",
    "    \n",
    "    #Fit the model to the data\n",
    "    \n",
    "    k_means.fit(df_scaled)\n",
    "    \n",
    "    # Store inertia value of each model into the empty list \n",
    "    \n",
    "    inertia_values.append(k_means.inertia_)\n",
    "    \n",
    "# Plot the result\n",
    "\n",
    "sns.lineplot(x = clusters, y = inertia_values)\n",
    "plt.xlabel('Number of Clusters')\n",
    "plt.ylabel('Inertia Value')\n",
    "plt.title('Number of Clusters Vs. Inertia Values')\n",
    "plt.show()"
   ]
  },
  {
   "cell_type": "markdown",
   "metadata": {},
   "source": [
    "**Principal component analysis**"
   ]
  },
  {
   "cell_type": "code",
   "execution_count": null,
   "metadata": {},
   "outputs": [],
   "source": [
    "#Initialize a PCA model with 5 features \n",
    "\n",
    "pca_model = PCA(n_components = 5)"
   ]
  },
  {
   "cell_type": "code",
   "execution_count": null,
   "metadata": {},
   "outputs": [],
   "source": [
    "#Fit the model to the dataframe\n",
    "\n",
    "pca_model.fit(df_scaled)"
   ]
  },
  {
   "cell_type": "code",
   "execution_count": null,
   "metadata": {},
   "outputs": [],
   "source": [
    "#Transform the features so that it is de-correlated\n",
    "\n",
    "pca_transform = pca_model.transform(df_scaled)"
   ]
  },
  {
   "cell_type": "code",
   "execution_count": null,
   "metadata": {},
   "outputs": [],
   "source": [
    "#Check to see if there are only 5 features\n",
    "\n",
    "pca_transform.shape"
   ]
  },
  {
   "cell_type": "markdown",
   "metadata": {},
   "source": [
    "**Fitting and evaluating a new K-Means model**"
   ]
  },
  {
   "cell_type": "code",
   "execution_count": null,
   "metadata": {},
   "outputs": [],
   "source": [
    "#Applying the K-Means algorithm on the scaled data\n",
    "\n",
    "#Initializing K-means with 2 clusters\n",
    "\n",
    "k_means = KMeans(n_clusters = 2)\n",
    "\n",
    "#Fitting the model on the data\n",
    "\n",
    "k_means.fit(pca_transform)"
   ]
  },
  {
   "cell_type": "code",
   "execution_count": null,
   "metadata": {},
   "outputs": [],
   "source": [
    "# Inertia of present model\n",
    "\n",
    "k_means.inertia_"
   ]
  },
  {
   "cell_type": "code",
   "execution_count": null,
   "metadata": {},
   "outputs": [],
   "source": [
    "#Initialize a list of principal components\n",
    "\n",
    "components = [1,2,3,4,5,6,7,8,9,10]\n",
    "\n",
    "#Create an empty list in order to store the inertia values \n",
    "\n",
    "inertia_values = []\n",
    "\n",
    "for comp in components:\n",
    "    \n",
    "    #Initialize a PCA model\n",
    "\n",
    "    pca_model = PCA(n_components = comp)\n",
    "    \n",
    "    #Fit the model to the dataframe\n",
    "\n",
    "    pca_model.fit(df_scaled)\n",
    "    \n",
    "    #Transform the features so that it is de-correlated\n",
    "\n",
    "    pca_transform = pca_model.transform(df_scaled)\n",
    "    \n",
    "    #Build a k-means model \n",
    "    \n",
    "    k_means = KMeans(n_clusters = 2)\n",
    "    \n",
    "    #Fit the model to the data\n",
    "    \n",
    "    k_means.fit(pca_transform)\n",
    "    \n",
    "    # Store inertia value of each model into the empty list \n",
    "    \n",
    "    inertia_values.append(k_means.inertia_)\n",
    "    \n",
    "# Plot the result\n",
    "\n",
    "sns.lineplot(x = components, y = inertia_values)\n",
    "plt.xlabel('Number of Principal Components')\n",
    "plt.ylabel('Inertia Value')\n",
    "plt.title('Number of Components Vs. Inertia Values')\n",
    "plt.show()"
   ]
  },
  {
   "cell_type": "markdown",
   "metadata": {},
   "source": [
    "## Cluster Visualization"
   ]
  },
  {
   "cell_type": "markdown",
   "metadata": {},
   "source": [
    "**t-SNE**"
   ]
  },
  {
   "cell_type": "code",
   "execution_count": null,
   "metadata": {},
   "outputs": [],
   "source": [
    "#Reading in the dataset\n",
    "\n",
    "df = pd.read_csv('fraud_prediction.csv')\n",
    "\n",
    "#Dropping the target feature & the index\n",
    "\n",
    "df = df.drop(['Unnamed: 0', 'isFraud'], axis = 1)"
   ]
  },
  {
   "cell_type": "code",
   "execution_count": null,
   "metadata": {},
   "outputs": [],
   "source": [
    "#Initializing K-means with 2 clusters\n",
    "\n",
    "k_means = KMeans(n_clusters = 2)\n",
    "\n",
    "#Fitting the model on the data\n",
    "\n",
    "k_means.fit(df)"
   ]
  },
  {
   "cell_type": "code",
   "execution_count": null,
   "metadata": {},
   "outputs": [],
   "source": [
    "#Extracting labels \n",
    "\n",
    "target_labels = k_means.predict(df)"
   ]
  },
  {
   "cell_type": "code",
   "execution_count": null,
   "metadata": {},
   "outputs": [],
   "source": [
    "#Converting the labels to a series \n",
    "\n",
    "target_labels = pd.Series(target_labels)"
   ]
  },
  {
   "cell_type": "code",
   "execution_count": null,
   "metadata": {},
   "outputs": [],
   "source": [
    "#Merging the labels to the dataset\n",
    "\n",
    "df = pd.merge(df, pd.DataFrame(target_labels), left_index=True, right_index=True)"
   ]
  },
  {
   "cell_type": "code",
   "execution_count": null,
   "metadata": {},
   "outputs": [],
   "source": [
    "#Renaming the target \n",
    "\n",
    "df['fraud'] = df[0]\n",
    "df = df.drop([0], axis = 1)"
   ]
  },
  {
   "cell_type": "code",
   "execution_count": null,
   "metadata": {},
   "outputs": [],
   "source": [
    "#Creating the features\n",
    "\n",
    "features = df.drop('fraud', axis = 1).values\n",
    "\n",
    "target = df['fraud'].values"
   ]
  },
  {
   "cell_type": "code",
   "execution_count": null,
   "metadata": {},
   "outputs": [],
   "source": [
    "#Initialize a TSNE object\n",
    "\n",
    "tsne_object = TSNE()\n",
    "\n",
    "#Fit and transform the features using the TSNE object\n",
    "\n",
    "transformed = tsne_object.fit_transform(features)"
   ]
  },
  {
   "cell_type": "code",
   "execution_count": null,
   "metadata": {},
   "outputs": [],
   "source": [
    "#Creating a t-SNE visualization\n",
    "\n",
    "x_axis = transformed[:,0]\n",
    "\n",
    "\n",
    "y_axis = transformed[:,1]\n",
    "\n",
    "\n",
    "plt.scatter(x_axis, y_axis, c = target)\n",
    "\n",
    "plt.show()"
   ]
  },
  {
   "cell_type": "markdown",
   "metadata": {},
   "source": [
    "**Heirarchial Clustering**"
   ]
  },
  {
   "cell_type": "code",
   "execution_count": null,
   "metadata": {},
   "outputs": [],
   "source": [
    "#Creating an array of 4 features\n",
    "\n",
    "array = np.array([[1,2,3,4], [5,6,7,8], [2,3,4,5], [5,6,4,3]])"
   ]
  },
  {
   "cell_type": "code",
   "execution_count": null,
   "metadata": {},
   "outputs": [],
   "source": [
    "feature_names = ['a', 'b', 'c', 'd']"
   ]
  },
  {
   "cell_type": "code",
   "execution_count": null,
   "metadata": {},
   "outputs": [],
   "source": [
    "feature_names"
   ]
  },
  {
   "cell_type": "code",
   "execution_count": null,
   "metadata": {},
   "outputs": [],
   "source": [
    "#Creating clusters\n",
    "\n",
    "clusters = linkage(array, method = 'complete')"
   ]
  },
  {
   "cell_type": "code",
   "execution_count": null,
   "metadata": {},
   "outputs": [],
   "source": [
    "#Creating a dendrogram\n",
    "\n",
    "dendrogram(clusters, labels = feature_names, leaf_rotation = 90)"
   ]
  },
  {
   "cell_type": "code",
   "execution_count": null,
   "metadata": {},
   "outputs": [],
   "source": [
    "plt.show()"
   ]
  },
  {
   "cell_type": "markdown",
   "metadata": {},
   "source": [
    "## Unsupervised to supervised learning"
   ]
  },
  {
   "cell_type": "code",
   "execution_count": null,
   "metadata": {},
   "outputs": [],
   "source": [
    "#Reading in the dataset\n",
    "\n",
    "df = pd.read_csv('fraud_prediction.csv')\n",
    "\n",
    "#Dropping the target feature & the index\n",
    "\n",
    "df = df.drop(['Unnamed: 0', 'isFraud'], axis = 1)"
   ]
  },
  {
   "cell_type": "code",
   "execution_count": null,
   "metadata": {},
   "outputs": [],
   "source": [
    "#Initializing K-means with 2 clusters\n",
    "\n",
    "k_means = KMeans(n_clusters = 2)\n",
    "\n",
    "#Fitting the model on the data\n",
    "\n",
    "k_means.fit(df)"
   ]
  },
  {
   "cell_type": "code",
   "execution_count": null,
   "metadata": {},
   "outputs": [],
   "source": [
    "#Extracting labels \n",
    "\n",
    "target_labels = k_means.predict(df)"
   ]
  },
  {
   "cell_type": "code",
   "execution_count": null,
   "metadata": {},
   "outputs": [],
   "source": [
    "#Converting the labels to a series \n",
    "\n",
    "target_labels = pd.Series(target_labels)"
   ]
  },
  {
   "cell_type": "code",
   "execution_count": null,
   "metadata": {},
   "outputs": [],
   "source": [
    "#Merging the labels to the dataset\n",
    "\n",
    "df = pd.merge(df, pd.DataFrame(target_labels), left_index=True, right_index=True)"
   ]
  },
  {
   "cell_type": "markdown",
   "metadata": {},
   "source": [
    "**Building the decision tree**"
   ]
  },
  {
   "cell_type": "code",
   "execution_count": null,
   "metadata": {},
   "outputs": [],
   "source": [
    "#Renaming the target \n",
    "\n",
    "df['fraud'] = df[0]\n",
    "df = df.drop([0], axis = 1)"
   ]
  },
  {
   "cell_type": "code",
   "execution_count": null,
   "metadata": {},
   "outputs": [],
   "source": [
    "#Initializing an empty DT classifier with a random state value of 42\n",
    "\n",
    "dt_classifier = DecisionTreeClassifier(criterion = 'gini', random_state = 42)"
   ]
  },
  {
   "cell_type": "code",
   "execution_count": null,
   "metadata": {},
   "outputs": [],
   "source": [
    "#Creating the features\n",
    "\n",
    "features = df.drop('fraud', axis = 1).values\n",
    "\n",
    "target = df['fraud'].values"
   ]
  },
  {
   "cell_type": "code",
   "execution_count": null,
   "metadata": {},
   "outputs": [],
   "source": [
    "#Fitting the classifier on the training data \n",
    "\n",
    "dt_classifier.fit(features, target)"
   ]
  },
  {
   "cell_type": "code",
   "execution_count": null,
   "metadata": {},
   "outputs": [],
   "source": [
    "#Creating a dataframe with the features only\n",
    "\n",
    "features = df.drop('fraud', axis = 1)"
   ]
  },
  {
   "cell_type": "code",
   "execution_count": null,
   "metadata": {},
   "outputs": [],
   "source": [
    "dot_data = tree.export_graphviz(dt_classifier, out_file=None, feature_names= features.columns)"
   ]
  },
  {
   "cell_type": "code",
   "execution_count": null,
   "metadata": {},
   "outputs": [],
   "source": [
    "# Draw graph\n",
    "\n",
    "graph = pydotplus.graph_from_dot_data(dot_data)"
   ]
  },
  {
   "cell_type": "code",
   "execution_count": null,
   "metadata": {},
   "outputs": [],
   "source": [
    "#Show graph \n",
    "\n",
    "Image(graph.create_png())"
   ]
  }
 ],
 "metadata": {
  "kernelspec": {
   "display_name": "Python 3",
   "language": "python",
   "name": "python3"
  },
  "language_info": {
   "codemirror_mode": {
    "name": "ipython",
    "version": 3
   },
   "file_extension": ".py",
   "mimetype": "text/x-python",
   "name": "python",
   "nbconvert_exporter": "python",
   "pygments_lexer": "ipython3",
   "version": "3.8.6"
  }
 },
 "nbformat": 4,
 "nbformat_minor": 2
}
