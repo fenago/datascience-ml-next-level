{
 "cells": [
  {
   "cell_type": "markdown",
   "id": "related-joseph",
   "metadata": {},
   "source": [
    "## Combined statistical representations with px.histogram\n",
    "\n",
    "Several representations of statistical distributions are available in plotly, such as [histograms](https://plotly.com/python/histograms/), [violin plots](https://plotly.com/python/violin/), [box plots](https://plotly.com/python/box-plots/) (see [the complete list here](https://plotly.com/python/statistical-charts/)). It is also possible to combine several representations in the same plot.\n",
    "\n",
    "For example, the `plotly.express` function `px.histogram` can add a subplot with a different statistical representation than the histogram, given by the parameter `marginal`. [Plotly Express](/python/plotly-express/) is the easy-to-use, high-level interface to Plotly, which [operates on a variety of types of data](/python/px-arguments/) and produces [easy-to-style figures](/python/styling-plotly-express/)."
   ]
  },
  {
   "cell_type": "code",
   "execution_count": null,
   "id": "choice-large",
   "metadata": {},
   "outputs": [],
   "source": [
    "import plotly.express as px\n",
    "df = px.data.tips()\n",
    "fig = px.histogram(df, x=\"total_bill\", y=\"tip\", color=\"sex\", marginal=\"rug\",\n",
    "                   hover_data=df.columns)\n",
    "fig.show()"
   ]
  },
  {
   "cell_type": "code",
   "execution_count": null,
   "id": "portuguese-illustration",
   "metadata": {},
   "outputs": [],
   "source": [
    "import plotly.express as px\n",
    "df = px.data.tips()\n",
    "fig = px.histogram(df, x=\"total_bill\", y=\"tip\", color=\"sex\",\n",
    "                   marginal=\"box\", # or violin, rug\n",
    "                   hover_data=df.columns)\n",
    "fig.show()"
   ]
  },
  {
   "cell_type": "markdown",
   "id": "familiar-reason",
   "metadata": {},
   "source": [
    "### Combined statistical representations in Dash\n",
    "\n",
    "[Dash](https://plotly.com/dash/) is the best way to build analytical apps in Python using Plotly figures. To run the app below, run `pip install dash`, click \"Download\" to get the code and run `python app.py`.\n",
    "\n",
    "Get started  with [the official Dash docs](https://dash.plotly.com/installation) and **learn how to effortlessly [style](https://plotly.com/dash/design-kit/) & [deploy](https://plotly.com/dash/app-manager/) apps like this with <a class=\"plotly-red\" href=\"https://plotly.com/dash/\">Dash Enterprise</a>.**\n"
   ]
  },
  {
   "cell_type": "code",
   "execution_count": null,
   "id": "liked-chicago",
   "metadata": {
    "hide_code": true
   },
   "outputs": [],
   "source": [
    "from IPython.display import IFrame\n",
    "snippet_url = 'https://dash-gallery.plotly.host/python-docs-dash-snippets/'\n",
    "IFrame(snippet_url + 'distplot', width='100%', height=630)"
   ]
  },
  {
   "cell_type": "markdown",
   "id": "differential-notion",
   "metadata": {},
   "source": [
    "## Combined statistical representations with distplot figure factory\n",
    "\n",
    "The distplot [figure factory](/python/figure-factories/) displays a combination of statistical representations of numerical data, such as histogram, kernel density estimation or normal curve, and rug plot.\n",
    "\n",
    "#### Basic Distplot\n",
    "\n",
    "A histogram, a kde plot and a rug plot are displayed."
   ]
  },
  {
   "cell_type": "code",
   "execution_count": null,
   "id": "ecological-romantic",
   "metadata": {},
   "outputs": [],
   "source": [
    "import plotly.figure_factory as ff\n",
    "import numpy as np\n",
    "np.random.seed(1)\n",
    "\n",
    "x = np.random.randn(1000)\n",
    "hist_data = [x]\n",
    "group_labels = ['distplot'] # name of the dataset\n",
    "\n",
    "fig = ff.create_distplot(hist_data, group_labels)\n",
    "fig.show()"
   ]
  },
  {
   "cell_type": "markdown",
   "id": "reserved-sandwich",
   "metadata": {},
   "source": [
    "#### Plot Multiple Datasets"
   ]
  },
  {
   "cell_type": "code",
   "execution_count": null,
   "id": "directed-julian",
   "metadata": {},
   "outputs": [],
   "source": [
    "import plotly.figure_factory as ff\n",
    "import numpy as np\n",
    "\n",
    "# Add histogram data\n",
    "x1 = np.random.randn(200) - 2\n",
    "x2 = np.random.randn(200)\n",
    "x3 = np.random.randn(200) + 2\n",
    "x4 = np.random.randn(200) + 4\n",
    "\n",
    "# Group data together\n",
    "hist_data = [x1, x2, x3, x4]\n",
    "\n",
    "group_labels = ['Group 1', 'Group 2', 'Group 3', 'Group 4']\n",
    "\n",
    "# Create distplot with custom bin_size\n",
    "fig = ff.create_distplot(hist_data, group_labels, bin_size=.2)\n",
    "fig.show()"
   ]
  },
  {
   "cell_type": "markdown",
   "id": "early-classics",
   "metadata": {},
   "source": [
    "#### Use Multiple Bin Sizes\n",
    "\n",
    "Different bin sizes are used for the different datasets with the `bin_size` argument."
   ]
  },
  {
   "cell_type": "code",
   "execution_count": null,
   "id": "casual-birthday",
   "metadata": {},
   "outputs": [],
   "source": [
    "import plotly.figure_factory as ff\n",
    "import numpy as np\n",
    "\n",
    "# Add histogram data\n",
    "x1 = np.random.randn(200)-2\n",
    "x2 = np.random.randn(200)\n",
    "x3 = np.random.randn(200)+2\n",
    "x4 = np.random.randn(200)+4\n",
    "\n",
    "# Group data together\n",
    "hist_data = [x1, x2, x3, x4]\n",
    "\n",
    "group_labels = ['Group 1', 'Group 2', 'Group 3', 'Group 4']\n",
    "\n",
    "# Create distplot with custom bin_size\n",
    "fig = ff.create_distplot(hist_data, group_labels, bin_size=[.1, .25, .5, 1])\n",
    "fig.show()"
   ]
  },
  {
   "cell_type": "markdown",
   "id": "tracked-intellectual",
   "metadata": {},
   "source": [
    "#### Customize Rug Text, Colors & Title"
   ]
  },
  {
   "cell_type": "code",
   "execution_count": null,
   "id": "systematic-extreme",
   "metadata": {},
   "outputs": [],
   "source": [
    "import plotly.figure_factory as ff\n",
    "import numpy as np\n",
    "\n",
    "x1 = np.random.randn(26)\n",
    "x2 = np.random.randn(26) + .5\n",
    "\n",
    "group_labels = ['2014', '2015']\n",
    "\n",
    "rug_text_one = ['a', 'b', 'c', 'd', 'e', 'f', 'g', 'h', 'i', 'j',\n",
    "                'k', 'l', 'm', 'n', 'o', 'p', 'q', 'r', 's', 't',\n",
    "                'u', 'v', 'w', 'x', 'y', 'z']\n",
    "\n",
    "rug_text_two = ['aa', 'bb', 'cc', 'dd', 'ee', 'ff', 'gg', 'hh', 'ii', 'jj',\n",
    "                'kk', 'll', 'mm', 'nn', 'oo', 'pp', 'qq', 'rr', 'ss', 'tt',\n",
    "                'uu', 'vv', 'ww', 'xx', 'yy', 'zz']\n",
    "\n",
    "rug_text = [rug_text_one, rug_text_two] # for hover in rug plot\n",
    "colors = ['rgb(0, 0, 100)', 'rgb(0, 200, 200)']\n",
    "\n",
    "# Create distplot with custom bin_size\n",
    "fig = ff.create_distplot(\n",
    "    [x1, x2], group_labels, bin_size=.2,\n",
    "    rug_text=rug_text, colors=colors)\n",
    "\n",
    "fig.update_layout(title_text='Customized Distplot')\n",
    "fig.show()"
   ]
  },
  {
   "cell_type": "markdown",
   "id": "intermediate-stage",
   "metadata": {},
   "source": [
    "#### Plot Normal Curve"
   ]
  },
  {
   "cell_type": "code",
   "execution_count": null,
   "id": "quality-thinking",
   "metadata": {},
   "outputs": [],
   "source": [
    "import plotly.figure_factory as ff\n",
    "import numpy as np\n",
    "\n",
    "x1 = np.random.randn(200)\n",
    "x2 = np.random.randn(200) + 2\n",
    "\n",
    "group_labels = ['Group 1', 'Group 2']\n",
    "\n",
    "colors = ['slategray', 'magenta']\n",
    "\n",
    "# Create distplot with curve_type set to 'normal'\n",
    "fig = ff.create_distplot([x1, x2], group_labels, bin_size=.5,\n",
    "                         curve_type='normal', # override default 'kde'\n",
    "                         colors=colors)\n",
    "\n",
    "# Add title\n",
    "fig.update_layout(title_text='Distplot with Normal Distribution')\n",
    "fig.show()"
   ]
  },
  {
   "cell_type": "markdown",
   "id": "biblical-halloween",
   "metadata": {},
   "source": [
    "#### Plot Only Curve and Rug"
   ]
  },
  {
   "cell_type": "code",
   "execution_count": null,
   "id": "amber-maria",
   "metadata": {},
   "outputs": [],
   "source": [
    "import plotly.figure_factory as ff\n",
    "import numpy as np\n",
    "\n",
    "x1 = np.random.randn(200) - 1\n",
    "x2 = np.random.randn(200)\n",
    "x3 = np.random.randn(200) + 1\n",
    "\n",
    "hist_data = [x1, x2, x3]\n",
    "\n",
    "group_labels = ['Group 1', 'Group 2', 'Group 3']\n",
    "colors = ['#333F44', '#37AA9C', '#94F3E4']\n",
    "\n",
    "# Create distplot with curve_type set to 'normal'\n",
    "fig = ff.create_distplot(hist_data, group_labels, show_hist=False, colors=colors)\n",
    "\n",
    "# Add title\n",
    "fig.update_layout(title_text='Curve and Rug Plot')\n",
    "fig.show()"
   ]
  },
  {
   "cell_type": "markdown",
   "id": "precise-midwest",
   "metadata": {},
   "source": [
    "#### Plot Only Hist and Rug"
   ]
  },
  {
   "cell_type": "code",
   "execution_count": null,
   "id": "czech-tackle",
   "metadata": {},
   "outputs": [],
   "source": [
    "import plotly.figure_factory as ff\n",
    "import numpy as np\n",
    "\n",
    "x1 = np.random.randn(200) - 1\n",
    "x2 = np.random.randn(200)\n",
    "x3 = np.random.randn(200) + 1\n",
    "\n",
    "hist_data = [x1, x2, x3]\n",
    "\n",
    "group_labels = ['Group 1', 'Group 2', 'Group 3']\n",
    "colors = ['#835AF1', '#7FA6EE', '#B8F7D4']\n",
    "\n",
    "# Create distplot with curve_type set to 'normal'\n",
    "fig = ff.create_distplot(hist_data, group_labels, colors=colors, bin_size=.25,\n",
    "                         show_curve=False)\n",
    "\n",
    "# Add title\n",
    "fig.update_layout(title_text='Hist and Rug Plot')\n",
    "fig.show()"
   ]
  },
  {
   "cell_type": "markdown",
   "id": "single-stanford",
   "metadata": {},
   "source": [
    "#### Plot Hist and Rug with Different Bin Sizes"
   ]
  },
  {
   "cell_type": "code",
   "execution_count": null,
   "id": "atmospheric-typing",
   "metadata": {},
   "outputs": [],
   "source": [
    "import plotly.figure_factory as ff\n",
    "import numpy as np\n",
    "\n",
    "x1 = np.random.randn(200) - 2\n",
    "x2 = np.random.randn(200)\n",
    "x3 = np.random.randn(200) + 2\n",
    "\n",
    "hist_data = [x1, x2, x3]\n",
    "\n",
    "group_labels = ['Group 1', 'Group 2', 'Group 3']\n",
    "colors = ['#393E46', '#2BCDC1', '#F66095']\n",
    "\n",
    "fig = ff.create_distplot(hist_data, group_labels, colors=colors,\n",
    "                         bin_size=[0.3, 0.2, 0.1], show_curve=False)\n",
    "\n",
    "# Add title\n",
    "fig.update(layout_title_text='Hist and Rug Plot')\n",
    "fig.show()"
   ]
  },
  {
   "cell_type": "markdown",
   "id": "technical-winter",
   "metadata": {},
   "source": [
    "#### Plot Only Hist and Curve"
   ]
  },
  {
   "cell_type": "code",
   "execution_count": null,
   "id": "configured-optimization",
   "metadata": {},
   "outputs": [],
   "source": [
    "import plotly.figure_factory as ff\n",
    "import numpy as np\n",
    "\n",
    "x1 = np.random.randn(200) - 2\n",
    "x2 = np.random.randn(200)\n",
    "x3 = np.random.randn(200) + 2\n",
    "\n",
    "hist_data = [x1, x2, x3]\n",
    "\n",
    "group_labels = ['Group 1', 'Group 2', 'Group 3']\n",
    "colors = ['#A56CC1', '#A6ACEC', '#63F5EF']\n",
    "\n",
    "# Create distplot with curve_type set to 'normal'\n",
    "fig = ff.create_distplot(hist_data, group_labels, colors=colors,\n",
    "                         bin_size=.2, show_rug=False)\n",
    "\n",
    "# Add title\n",
    "fig.update_layout(title_text='Hist and Curve Plot')\n",
    "fig.show()"
   ]
  },
  {
   "cell_type": "markdown",
   "id": "changing-photography",
   "metadata": {},
   "source": [
    "#### Distplot with Pandas"
   ]
  },
  {
   "cell_type": "code",
   "execution_count": null,
   "id": "interim-sociology",
   "metadata": {},
   "outputs": [],
   "source": [
    "import plotly.figure_factory as ff\n",
    "import numpy as np\n",
    "import pandas as pd\n",
    "\n",
    "df = pd.DataFrame({'2012': np.random.randn(200),\n",
    "                   '2013': np.random.randn(200)+1})\n",
    "fig = ff.create_distplot([df[c] for c in df.columns], df.columns, bin_size=.25)\n",
    "fig.show()"
   ]
  },
  {
   "cell_type": "code",
   "execution_count": null,
   "id": "turkish-athens",
   "metadata": {},
   "outputs": [],
   "source": []
  }
 ],
 "metadata": {
  "jupytext": {
   "notebook_metadata_filter": "all",
   "text_representation": {
    "extension": ".md",
    "format_name": "markdown",
    "format_version": "1.3",
    "jupytext_version": "1.11.1"
   }
  },
  "kernelspec": {
   "display_name": "Python 3",
   "language": "python",
   "name": "python3"
  },
  "language_info": {
   "codemirror_mode": {
    "name": "ipython",
    "version": 3
   },
   "file_extension": ".py",
   "mimetype": "text/x-python",
   "name": "python",
   "nbconvert_exporter": "python",
   "pygments_lexer": "ipython3",
   "version": "3.7.10"
  },
  "plotly": {
   "description": "How to make interactive Distplots in Python with Plotly.",
   "display_as": "statistical",
   "language": "python",
   "layout": "base",
   "name": "Distplots",
   "order": 4,
   "page_type": "example_index",
   "permalink": "python/distplot/",
   "thumbnail": "thumbnail/distplot.jpg"
  }
 },
 "nbformat": 4,
 "nbformat_minor": 5
}
