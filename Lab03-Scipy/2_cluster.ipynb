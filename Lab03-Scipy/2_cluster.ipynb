{
 "cells": [
  {
   "cell_type": "code",
   "execution_count": null,
   "id": "11297b99",
   "metadata": {},
   "outputs": [],
   "source": [
    "from scipy.cluster.vq import kmeans,vq,whiten\n"
   ]
  },
  {
   "cell_type": "code",
   "execution_count": null,
   "id": "15053db3",
   "metadata": {},
   "outputs": [],
   "source": [
    "from numpy import vstack,array\n",
    "from numpy.random import rand\n",
    "\n",
    "# data generation with three features\n",
    "data = vstack((rand(100,3) + array([.5,.5,.5]),rand(100,3)))\n",
    "\n",
    "data"
   ]
  },
  {
   "cell_type": "code",
   "execution_count": null,
   "id": "f6be5a9f",
   "metadata": {},
   "outputs": [],
   "source": [
    "# whitening of data\n",
    "data = whiten(data)"
   ]
  },
  {
   "cell_type": "code",
   "execution_count": null,
   "id": "06f34014",
   "metadata": {},
   "outputs": [],
   "source": [
    "print(data)"
   ]
  },
  {
   "cell_type": "code",
   "execution_count": null,
   "id": "150cacbf",
   "metadata": {},
   "outputs": [],
   "source": []
  },
  {
   "cell_type": "code",
   "execution_count": null,
   "id": "4d2f475c",
   "metadata": {},
   "outputs": [],
   "source": [
    "# computing K-Means with K = 3 (2 clusters)\n",
    "centroids,_ = kmeans(data,3)"
   ]
  },
  {
   "cell_type": "code",
   "execution_count": null,
   "id": "ed55baaf",
   "metadata": {},
   "outputs": [],
   "source": [
    "print(centroids)"
   ]
  },
  {
   "cell_type": "code",
   "execution_count": null,
   "id": "e0e77d6f",
   "metadata": {},
   "outputs": [],
   "source": [
    "# assign each sample to a cluster\n",
    "clx,_ = vq(data,centroids)"
   ]
  },
  {
   "cell_type": "code",
   "execution_count": null,
   "id": "18c5acc4",
   "metadata": {},
   "outputs": [],
   "source": [
    "# check clusters of observation\n",
    "print(clx)"
   ]
  },
  {
   "cell_type": "code",
   "execution_count": null,
   "id": "935e717f",
   "metadata": {},
   "outputs": [],
   "source": []
  }
 ],
 "metadata": {
  "kernelspec": {
   "display_name": "Python 3 (ipykernel)",
   "language": "python",
   "name": "python3"
  },
  "language_info": {
   "codemirror_mode": {
    "name": "ipython",
    "version": 3
   },
   "file_extension": ".py",
   "mimetype": "text/x-python",
   "name": "python",
   "nbconvert_exporter": "python",
   "pygments_lexer": "ipython3",
   "version": "3.9.7"
  }
 },
 "nbformat": 4,
 "nbformat_minor": 5
}
