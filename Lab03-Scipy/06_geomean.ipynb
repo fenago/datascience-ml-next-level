{
 "cells": [
  {
   "cell_type": "code",
   "execution_count": null,
   "id": "6b657c5b",
   "metadata": {
    "lines_to_next_cell": 0
   },
   "outputs": [],
   "source": []
  },
  {
   "cell_type": "code",
   "execution_count": null,
   "id": "951efb22",
   "metadata": {},
   "outputs": [],
   "source": [
    "import scipy as sp\n",
    "ret=sp.array([0.1,0.05,-0.02])\n",
    "arithmetric_mean=sp.mean(ret)  # arithmetic mean   \n",
    "print \"arithmatic mean=\", arithmetric_mean "
   ]
  },
  {
   "cell_type": "code",
   "execution_count": null,
   "id": "f68f94da",
   "metadata": {
    "lines_to_next_cell": 2
   },
   "outputs": [],
   "source": [
    "geomean=pow(sp.prod(ret+1),1./len(ret))-1 # geometric mean   \n",
    "print 'gemetric mean=',geomean"
   ]
  }
 ],
 "metadata": {
  "jupytext": {
   "cell_metadata_filter": "-all",
   "main_language": "python",
   "notebook_metadata_filter": "-all"
  }
 },
 "nbformat": 4,
 "nbformat_minor": 5
}
