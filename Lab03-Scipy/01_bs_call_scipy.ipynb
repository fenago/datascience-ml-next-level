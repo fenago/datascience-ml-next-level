{
 "cells": [
  {
   "cell_type": "code",
   "execution_count": null,
   "id": "e8723bcc",
   "metadata": {
    "lines_to_next_cell": 2
   },
   "outputs": [],
   "source": []
  },
  {
   "cell_type": "code",
   "execution_count": null,
   "id": "a476893f",
   "metadata": {
    "lines_to_next_cell": 1
   },
   "outputs": [],
   "source": [
    "from math import sqrt, log, pi,exp\n",
    "from scipy.stats import norm"
   ]
  },
  {
   "cell_type": "code",
   "execution_count": null,
   "id": "7d3aa638",
   "metadata": {
    "lines_to_next_cell": 1
   },
   "outputs": [],
   "source": [
    "def bs_call(S,X,T,r,sigma):\n",
    "    \"\"\"\n",
    "       Objective: Black-Schole-Merton option model\n",
    "         >>> bs_call2(40,40,1,0.1,0.2)\n",
    "         5.307874373215604\n",
    "    \"\"\"\n",
    "    d1 = (log(S/X)+(r+sigma*sigma/2.)*T)/(sigma*sqrt(T))\n",
    "    d2 = d1-sigma*sqrt(T)\n",
    "    return S*norm.cdf(d1)-X*exp(-r*T)*norm.cdf(d2)"
   ]
  },
  {
   "cell_type": "code",
   "execution_count": null,
   "id": "a0115f4f",
   "metadata": {},
   "outputs": [],
   "source": [
    "print bs_call(40,40,1,0.1,0.2)"
   ]
  }
 ],
 "metadata": {
  "jupytext": {
   "cell_metadata_filter": "-all",
   "main_language": "python",
   "notebook_metadata_filter": "-all"
  }
 },
 "nbformat": 4,
 "nbformat_minor": 5
}
