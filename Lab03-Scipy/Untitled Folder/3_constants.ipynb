{
 "cells": [
  {
   "cell_type": "code",
   "execution_count": null,
   "id": "1da9d228",
   "metadata": {},
   "outputs": [],
   "source": [
    "#Import pi constant from both the packages\n",
    "from scipy.constants import pi\n",
    "from math import pi\n",
    "\n",
    "print(\"sciPy - pi = \" + str(scipy.constants.pi))\n",
    "print(\"math -  pi = \" + str(pi))"
   ]
  },
  {
   "cell_type": "code",
   "execution_count": null,
   "id": "1d0b8db3",
   "metadata": {},
   "outputs": [],
   "source": []
  },
  {
   "cell_type": "code",
   "execution_count": null,
   "id": "84e0d963",
   "metadata": {},
   "outputs": [],
   "source": [
    "import scipy.constants\n",
    "res = scipy.constants.physical_constants[\"alpha particle mass\"]\n",
    "print(res)"
   ]
  },
  {
   "cell_type": "code",
   "execution_count": null,
   "id": "c8101f64",
   "metadata": {},
   "outputs": [],
   "source": []
  }
 ],
 "metadata": {
  "kernelspec": {
   "display_name": "Python 3 (ipykernel)",
   "language": "python",
   "name": "python3"
  },
  "language_info": {
   "codemirror_mode": {
    "name": "ipython",
    "version": 3
   },
   "file_extension": ".py",
   "mimetype": "text/x-python",
   "name": "python",
   "nbconvert_exporter": "python",
   "pygments_lexer": "ipython3",
   "version": "3.9.7"
  }
 },
 "nbformat": 4,
 "nbformat_minor": 5
}
