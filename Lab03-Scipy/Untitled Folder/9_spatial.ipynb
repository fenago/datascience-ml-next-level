{
 "cells": [
  {
   "cell_type": "markdown",
   "id": "ca73dd0c",
   "metadata": {},
   "source": [
    "#### Delaunay Triangulations"
   ]
  },
  {
   "cell_type": "code",
   "execution_count": null,
   "id": "bebe3a5f",
   "metadata": {},
   "outputs": [],
   "source": [
    "from scipy.spatial import Delaunay\n",
    "import numpy as np\n",
    "\n",
    "points = np.array([[0, 4], [2, 1.1], [1, 3], [1, 2]])\n",
    "tri = Delaunay(points)\n",
    "import matplotlib.pyplot as plt\n",
    "plt.triplot(points[:,0], points[:,1], tri.simplices.copy())\n",
    "plt.plot(points[:,0], points[:,1], 'o')\n",
    "plt.show()"
   ]
  },
  {
   "cell_type": "code",
   "execution_count": null,
   "id": "0670e5d5",
   "metadata": {},
   "outputs": [],
   "source": []
  },
  {
   "cell_type": "code",
   "execution_count": null,
   "id": "91345e35",
   "metadata": {},
   "outputs": [],
   "source": [
    "#### Coplanar Points"
   ]
  },
  {
   "cell_type": "code",
   "execution_count": null,
   "id": "2486ca6c",
   "metadata": {},
   "outputs": [],
   "source": [
    "from scipy.spatial import Delaunay\n",
    "points = np.array([[0, 0], [0, 1], [1, 0], [1, 1], [1, 1]])\n",
    "tri = Delaunay(points)\n",
    "print(tri.coplanar)"
   ]
  },
  {
   "cell_type": "code",
   "execution_count": null,
   "id": "d933e7cb",
   "metadata": {},
   "outputs": [],
   "source": []
  },
  {
   "cell_type": "markdown",
   "id": "fe964381",
   "metadata": {},
   "source": [
    "#### Convex hulls"
   ]
  },
  {
   "cell_type": "code",
   "execution_count": null,
   "id": "eddf8342",
   "metadata": {},
   "outputs": [],
   "source": [
    "from scipy.spatial import ConvexHull\n",
    "points = np.random.rand(10, 2) # 30 random points in 2-D\n",
    "hull = ConvexHull(points)\n",
    "import matplotlib.pyplot as plt\n",
    "plt.plot(points[:,0], points[:,1], 'o')\n",
    "\n",
    "for simplex in hull.simplices:\n",
    "    plt.plot(points[simplex,0], points[simplex,1], 'k-')\n",
    "plt.show()"
   ]
  },
  {
   "cell_type": "code",
   "execution_count": null,
   "id": "c68b143c",
   "metadata": {},
   "outputs": [],
   "source": []
  },
  {
   "cell_type": "code",
   "execution_count": null,
   "id": "b1eb5fda",
   "metadata": {},
   "outputs": [],
   "source": []
  }
 ],
 "metadata": {
  "kernelspec": {
   "display_name": "Python 3 (ipykernel)",
   "language": "python",
   "name": "python3"
  },
  "language_info": {
   "codemirror_mode": {
    "name": "ipython",
    "version": 3
   },
   "file_extension": ".py",
   "mimetype": "text/x-python",
   "name": "python",
   "nbconvert_exporter": "python",
   "pygments_lexer": "ipython3",
   "version": "3.9.7"
  }
 },
 "nbformat": 4,
 "nbformat_minor": 5
}
