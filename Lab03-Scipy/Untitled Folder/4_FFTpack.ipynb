{
 "cells": [
  {
   "cell_type": "markdown",
   "id": "e69562f6",
   "metadata": {},
   "source": [
    "### Fast Fourier Transform"
   ]
  },
  {
   "cell_type": "code",
   "execution_count": null,
   "id": "81cc7209",
   "metadata": {},
   "outputs": [],
   "source": [
    "#Importing the fft and inverse fft functions from fftpackage\n",
    "from scipy.fftpack import fft, ifft\n",
    "import numpy as np\n",
    "\n",
    "#create an array with random n numbers\n",
    "x = np.array([1.0, 2.0, 1.0, -1.0, 1.5])\n",
    "\n",
    "#Applying the fft function\n",
    "y = fft(x)\n",
    "print(y)"
   ]
  },
  {
   "cell_type": "code",
   "execution_count": null,
   "id": "5b588573",
   "metadata": {},
   "outputs": [],
   "source": []
  },
  {
   "cell_type": "code",
   "execution_count": null,
   "id": "d476c0ae",
   "metadata": {},
   "outputs": [],
   "source": [
    "#FFT is already in the workspace, using the same workspace to for inverse transform\n",
    "\n",
    "yinv = ifft(y)\n",
    "\n",
    "print (yinv)"
   ]
  },
  {
   "cell_type": "markdown",
   "id": "fe2c3044",
   "metadata": {},
   "source": [
    "#### scipy.fftpack module"
   ]
  },
  {
   "cell_type": "code",
   "execution_count": null,
   "id": "217800d6",
   "metadata": {},
   "outputs": [],
   "source": [
    "import numpy as np\n",
    "time_step = 0.02\n",
    "period = 5.\n",
    "time_vec = np.arange(0, 20, time_step)\n",
    "sig = np.sin(2 * np.pi / period * time_vec) + 0.5 *np.random.randn(time_vec.size)\n",
    "print(sig.size)"
   ]
  },
  {
   "cell_type": "code",
   "execution_count": null,
   "id": "3002a4f1",
   "metadata": {},
   "outputs": [],
   "source": []
  },
  {
   "cell_type": "code",
   "execution_count": null,
   "id": "5676e667",
   "metadata": {},
   "outputs": [],
   "source": [
    "from scipy import fftpack\n",
    "sample_freq = fftpack.fftfreq(sig.size, d = time_step)\n",
    "sig_fft = fftpack.fft(sig)\n",
    "print(sig_fft)"
   ]
  },
  {
   "cell_type": "code",
   "execution_count": null,
   "id": "4f1b74e8",
   "metadata": {},
   "outputs": [],
   "source": []
  },
  {
   "cell_type": "markdown",
   "id": "a5218756",
   "metadata": {},
   "source": [
    "#### Discrete Cosine Transform\n"
   ]
  },
  {
   "cell_type": "code",
   "execution_count": null,
   "id": "62a3d522",
   "metadata": {},
   "outputs": [],
   "source": [
    "from scipy.fftpack import dct\n",
    "print(dct(np.array([4., 3., 5., 10., 5., 3.])))"
   ]
  },
  {
   "cell_type": "markdown",
   "id": "1c75a366",
   "metadata": {},
   "source": [
    "#### Inverse Discrete Cosine Transform\n"
   ]
  },
  {
   "cell_type": "code",
   "execution_count": null,
   "id": "9d9b88e0",
   "metadata": {},
   "outputs": [],
   "source": [
    "from scipy.fftpack import idct\n",
    "print(idct(np.array([4., 3., 5., 10., 5., 3.])))"
   ]
  },
  {
   "cell_type": "code",
   "execution_count": null,
   "id": "0c10f953",
   "metadata": {},
   "outputs": [],
   "source": []
  },
  {
   "cell_type": "code",
   "execution_count": null,
   "id": "f49fe10c",
   "metadata": {},
   "outputs": [],
   "source": []
  }
 ],
 "metadata": {
  "kernelspec": {
   "display_name": "Python 3 (ipykernel)",
   "language": "python",
   "name": "python3"
  },
  "language_info": {
   "codemirror_mode": {
    "name": "ipython",
    "version": 3
   },
   "file_extension": ".py",
   "mimetype": "text/x-python",
   "name": "python",
   "nbconvert_exporter": "python",
   "pygments_lexer": "ipython3",
   "version": "3.9.7"
  }
 },
 "nbformat": 4,
 "nbformat_minor": 5
}
