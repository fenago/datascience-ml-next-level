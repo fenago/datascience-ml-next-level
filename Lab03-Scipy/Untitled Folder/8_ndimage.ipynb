{
 "cells": [
  {
   "cell_type": "code",
   "execution_count": null,
   "id": "d20300af",
   "metadata": {},
   "outputs": [],
   "source": [
    "import numpy as np"
   ]
  },
  {
   "cell_type": "code",
   "execution_count": null,
   "id": "63335e1e",
   "metadata": {},
   "outputs": [],
   "source": [
    "from scipy import misc\n",
    "f = misc.face()\n",
    "\n",
    "import matplotlib.pyplot as plt\n",
    "plt.imshow(f)\n",
    "plt.show()"
   ]
  },
  {
   "cell_type": "code",
   "execution_count": null,
   "id": "c1230900",
   "metadata": {},
   "outputs": [],
   "source": [
    "from scipy import misc\n",
    "face = misc.face(gray = False)\n",
    "print (face.mean(), face.max(), face.min())"
   ]
  },
  {
   "cell_type": "code",
   "execution_count": null,
   "id": "a025ac72",
   "metadata": {},
   "outputs": [],
   "source": []
  },
  {
   "cell_type": "code",
   "execution_count": null,
   "id": "0ed00789",
   "metadata": {},
   "outputs": [],
   "source": [
    "# up <-> down flip\n",
    "from scipy import misc\n",
    "face = misc.face()\n",
    "flip_ud_face = np.flipud(face)\n",
    "\n",
    "import matplotlib.pyplot as plt\n",
    "plt.imshow(flip_ud_face)\n",
    "plt.show()"
   ]
  },
  {
   "cell_type": "code",
   "execution_count": null,
   "id": "a5646bfa",
   "metadata": {},
   "outputs": [],
   "source": []
  },
  {
   "cell_type": "code",
   "execution_count": null,
   "id": "7dccae19",
   "metadata": {},
   "outputs": [],
   "source": [
    "# rotation\n",
    "from scipy import misc,ndimage\n",
    "face = misc.face()\n",
    "rotate_face = ndimage.rotate(face, 45)\n",
    "\n",
    "import matplotlib.pyplot as plt\n",
    "plt.imshow(rotate_face)\n",
    "plt.show()"
   ]
  },
  {
   "cell_type": "code",
   "execution_count": null,
   "id": "e83870c7",
   "metadata": {},
   "outputs": [],
   "source": []
  },
  {
   "cell_type": "markdown",
   "id": "47f1cf32",
   "metadata": {},
   "source": [
    "#### Blurring"
   ]
  },
  {
   "cell_type": "code",
   "execution_count": null,
   "id": "767a6c5b",
   "metadata": {},
   "outputs": [],
   "source": [
    "from scipy import misc\n",
    "face = misc.face()\n",
    "blurred_face = ndimage.gaussian_filter(face, sigma=3)\n",
    "import matplotlib.pyplot as plt\n",
    "plt.imshow(blurred_face)\n",
    "plt.show()"
   ]
  },
  {
   "cell_type": "code",
   "execution_count": null,
   "id": "0be84945",
   "metadata": {},
   "outputs": [],
   "source": []
  },
  {
   "cell_type": "markdown",
   "id": "c67d6bd2",
   "metadata": {},
   "source": [
    "#### Edge Detection"
   ]
  },
  {
   "cell_type": "code",
   "execution_count": null,
   "id": "b1b592ea",
   "metadata": {},
   "outputs": [],
   "source": [
    "import scipy.ndimage as nd\n",
    "import numpy as np\n",
    "\n",
    "im = np.zeros((256, 256))\n",
    "im[64:-64, 64:-64] = 1\n",
    "im[90:-90,90:-90] = 2\n",
    "im = ndimage.gaussian_filter(im, 8)\n",
    "\n",
    "import matplotlib.pyplot as plt\n",
    "plt.imshow(im)\n",
    "plt.show()"
   ]
  },
  {
   "cell_type": "code",
   "execution_count": null,
   "id": "e85edd9c",
   "metadata": {},
   "outputs": [],
   "source": []
  },
  {
   "cell_type": "code",
   "execution_count": null,
   "id": "76628aaa",
   "metadata": {},
   "outputs": [],
   "source": [
    "import scipy.ndimage as nd\n",
    "import matplotlib.pyplot as plt\n",
    "\n",
    "im = np.zeros((256, 256))\n",
    "im[64:-64, 64:-64] = 1\n",
    "im[90:-90,90:-90] = 2\n",
    "im = ndimage.gaussian_filter(im, 8)\n",
    "\n",
    "sx = ndimage.sobel(im, axis = 0, mode = 'constant')\n",
    "sy = ndimage.sobel(im, axis = 1, mode = 'constant')\n",
    "sob = np.hypot(sx, sy)\n",
    "\n",
    "plt.imshow(sob)\n",
    "plt.show()"
   ]
  },
  {
   "cell_type": "code",
   "execution_count": null,
   "id": "2aa2998c",
   "metadata": {},
   "outputs": [],
   "source": []
  },
  {
   "cell_type": "code",
   "execution_count": null,
   "id": "355a86de",
   "metadata": {},
   "outputs": [],
   "source": []
  }
 ],
 "metadata": {
  "kernelspec": {
   "display_name": "Python 3 (ipykernel)",
   "language": "python",
   "name": "python3"
  },
  "language_info": {
   "codemirror_mode": {
    "name": "ipython",
    "version": 3
   },
   "file_extension": ".py",
   "mimetype": "text/x-python",
   "name": "python",
   "nbconvert_exporter": "python",
   "pygments_lexer": "ipython3",
   "version": "3.9.7"
  }
 },
 "nbformat": 4,
 "nbformat_minor": 5
}
