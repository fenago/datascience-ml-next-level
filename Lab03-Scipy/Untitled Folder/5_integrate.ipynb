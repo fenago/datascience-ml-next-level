{
 "cells": [
  {
   "cell_type": "markdown",
   "id": "780b0df1",
   "metadata": {},
   "source": [
    "#### Single Integrals"
   ]
  },
  {
   "cell_type": "code",
   "execution_count": null,
   "id": "b6a1f9db",
   "metadata": {},
   "outputs": [],
   "source": [
    "import scipy.integrate\n",
    "from numpy import exp\n",
    "f= lambda x:exp(-x**2)\n",
    "i = scipy.integrate.quad(f, 0, 1)\n",
    "print(i)"
   ]
  },
  {
   "cell_type": "markdown",
   "id": "5b9bf32d",
   "metadata": {},
   "source": [
    "#### Double Integrals"
   ]
  },
  {
   "cell_type": "code",
   "execution_count": null,
   "id": "f11a2838",
   "metadata": {},
   "outputs": [],
   "source": [
    "import scipy.integrate\n",
    "from numpy import exp\n",
    "from math import sqrt\n",
    "f = lambda x, y : 16*x*y\n",
    "g = lambda x : 0\n",
    "h = lambda y : sqrt(1-4*y**2)\n",
    "i = scipy.integrate.dblquad(f, 0, 0.5, g, h)\n",
    "print(i)"
   ]
  },
  {
   "cell_type": "code",
   "execution_count": null,
   "id": "285e3407",
   "metadata": {},
   "outputs": [],
   "source": []
  }
 ],
 "metadata": {
  "kernelspec": {
   "display_name": "Python 3 (ipykernel)",
   "language": "python",
   "name": "python3"
  },
  "language_info": {
   "codemirror_mode": {
    "name": "ipython",
    "version": 3
   },
   "file_extension": ".py",
   "mimetype": "text/x-python",
   "name": "python",
   "nbconvert_exporter": "python",
   "pygments_lexer": "ipython3",
   "version": "3.9.7"
  }
 },
 "nbformat": 4,
 "nbformat_minor": 5
}
