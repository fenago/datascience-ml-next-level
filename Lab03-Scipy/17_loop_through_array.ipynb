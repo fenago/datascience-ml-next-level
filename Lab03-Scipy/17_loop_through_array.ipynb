{
 "cells": [
  {
   "cell_type": "code",
   "execution_count": null,
   "id": "f4b1922f",
   "metadata": {
    "lines_to_next_cell": 0
   },
   "outputs": [],
   "source": []
  },
  {
   "cell_type": "code",
   "execution_count": null,
   "id": "5fe3a044",
   "metadata": {},
   "outputs": [],
   "source": [
    "import numpy as np\n",
    "cash_flows=np.array([-100,50,40,30,25,-10,50,100])\n",
    "for cash in cash_flows:\n",
    "    print cash"
   ]
  }
 ],
 "metadata": {
  "jupytext": {
   "cell_metadata_filter": "-all",
   "main_language": "python",
   "notebook_metadata_filter": "-all"
  }
 },
 "nbformat": 4,
 "nbformat_minor": 5
}
