{
 "cells": [
  {
   "cell_type": "code",
   "execution_count": null,
   "id": "80658b8f",
   "metadata": {},
   "outputs": [],
   "source": []
  },
  {
   "cell_type": "code",
   "execution_count": null,
   "id": "9ee2bde2",
   "metadata": {},
   "outputs": [],
   "source": [
    "from scipy import log,exp,sqrt,stats\n",
    "def bs_call(S,X,T,r,sigma):\n",
    "    d1=(log(S/X)+(r+sigma*sigma/2.)*T)/(sigma*sqrt(T))\n",
    "    d2 = d1-sigma*sqrt(T)\n",
    "    return S*stats.norm.cdf(d1)-X*exp(-r*T)*stats.norm.cdf(d2)"
   ]
  }
 ],
 "metadata": {
  "jupytext": {
   "cell_metadata_filter": "-all",
   "main_language": "python",
   "notebook_metadata_filter": "-all"
  }
 },
 "nbformat": 4,
 "nbformat_minor": 5
}
