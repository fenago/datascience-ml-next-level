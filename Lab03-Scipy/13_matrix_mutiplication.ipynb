{
 "cells": [
  {
   "cell_type": "code",
   "execution_count": null,
   "id": "f53371e8",
   "metadata": {
    "lines_to_next_cell": 0
   },
   "outputs": [],
   "source": []
  },
  {
   "cell_type": "code",
   "execution_count": null,
   "id": "6b5dc876",
   "metadata": {},
   "outputs": [],
   "source": [
    "import numpy as np"
   ]
  },
  {
   "cell_type": "code",
   "execution_count": null,
   "id": "d601215a",
   "metadata": {},
   "outputs": [],
   "source": [
    "x=np.array([[1,2,3],[4,5,6]],float)      # 2 by 3"
   ]
  },
  {
   "cell_type": "code",
   "execution_count": null,
   "id": "a392b98b",
   "metadata": {},
   "outputs": [],
   "source": [
    "y=np.array([[1,2],[3,3],[4,5]],float)    # 3 by 2"
   ]
  },
  {
   "cell_type": "code",
   "execution_count": null,
   "id": "27329897",
   "metadata": {},
   "outputs": [],
   "source": [
    "xy=np.dot(x,y)                           # 2 by 2"
   ]
  },
  {
   "cell_type": "code",
   "execution_count": null,
   "id": "693029fa",
   "metadata": {},
   "outputs": [],
   "source": [
    "print x\n",
    "print y\n",
    "print xy"
   ]
  }
 ],
 "metadata": {
  "jupytext": {
   "cell_metadata_filter": "-all",
   "main_language": "python",
   "notebook_metadata_filter": "-all"
  }
 },
 "nbformat": 4,
 "nbformat_minor": 5
}
