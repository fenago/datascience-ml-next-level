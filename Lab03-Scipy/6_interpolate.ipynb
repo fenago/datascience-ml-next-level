{
 "cells": [
  {
   "cell_type": "markdown",
   "id": "fcd411a7",
   "metadata": {},
   "source": [
    "### Interpolation"
   ]
  },
  {
   "cell_type": "code",
   "execution_count": null,
   "id": "17061f7c",
   "metadata": {},
   "outputs": [],
   "source": [
    "import numpy as np\n",
    "from scipy import interpolate\n",
    "import matplotlib.pyplot as plt\n",
    "x = np.linspace(0, 4, 12)\n",
    "y = np.cos(x**2/3+4)\n",
    "print (x,y)"
   ]
  },
  {
   "cell_type": "code",
   "execution_count": null,
   "id": "65f9c6a5",
   "metadata": {},
   "outputs": [],
   "source": [
    "plt.plot(x, y,'o')\n",
    "plt.show()"
   ]
  },
  {
   "cell_type": "code",
   "execution_count": null,
   "id": "c815d0ef",
   "metadata": {},
   "outputs": [],
   "source": []
  },
  {
   "cell_type": "markdown",
   "id": "10e587c5",
   "metadata": {},
   "source": [
    "#### 1-D Interpolation"
   ]
  },
  {
   "cell_type": "code",
   "execution_count": null,
   "id": "57de1282",
   "metadata": {},
   "outputs": [],
   "source": [
    "f1 = interpolate.interp1d(x, y,kind = 'linear')\n",
    "\n",
    "f2 = interpolate.interp1d(x, y, kind = 'cubic')"
   ]
  },
  {
   "cell_type": "code",
   "execution_count": null,
   "id": "c87c6864",
   "metadata": {},
   "outputs": [],
   "source": [
    "xnew = np.linspace(0, 4,30)\n",
    "\n",
    "plt.plot(x, y, 'o', xnew, f1(xnew), '-', xnew, f2(xnew), '--')\n",
    "\n",
    "plt.legend(['data', 'linear', 'cubic','nearest'], loc = 'best')\n",
    "\n",
    "plt.show()"
   ]
  },
  {
   "cell_type": "code",
   "execution_count": null,
   "id": "16e44dff",
   "metadata": {},
   "outputs": [],
   "source": []
  },
  {
   "cell_type": "markdown",
   "id": "3598e31d",
   "metadata": {},
   "source": [
    "#### Univariate Spline"
   ]
  },
  {
   "cell_type": "code",
   "execution_count": null,
   "id": "190189da",
   "metadata": {},
   "outputs": [],
   "source": [
    "import matplotlib.pyplot as plt\n",
    "from scipy.interpolate import UnivariateSpline\n",
    "x = np.linspace(-3, 3, 50)\n",
    "y = np.exp(-x**2) + 0.1 * np.random.randn(50)\n",
    "plt.plot(x, y, 'ro', ms = 5)\n",
    "plt.show()"
   ]
  },
  {
   "cell_type": "code",
   "execution_count": null,
   "id": "f0029a2e",
   "metadata": {},
   "outputs": [],
   "source": []
  },
  {
   "cell_type": "code",
   "execution_count": null,
   "id": "31bf9626",
   "metadata": {},
   "outputs": [],
   "source": [
    "spl = UnivariateSpline(x, y)\n",
    "xs = np.linspace(-3, 3, 1000)\n",
    "plt.plot(xs, spl(xs), 'g', lw = 3)\n",
    "plt.show()"
   ]
  },
  {
   "cell_type": "code",
   "execution_count": null,
   "id": "9853ffbd",
   "metadata": {},
   "outputs": [],
   "source": []
  },
  {
   "cell_type": "code",
   "execution_count": null,
   "id": "8f9ee22a",
   "metadata": {},
   "outputs": [],
   "source": [
    "spl.set_smoothing_factor(0.5)\n",
    "plt.plot(xs, spl(xs), 'b', lw = 3)\n",
    "plt.show()"
   ]
  },
  {
   "cell_type": "code",
   "execution_count": null,
   "id": "89395325",
   "metadata": {},
   "outputs": [],
   "source": []
  },
  {
   "cell_type": "code",
   "execution_count": null,
   "id": "775ceac6",
   "metadata": {},
   "outputs": [],
   "source": []
  }
 ],
 "metadata": {
  "kernelspec": {
   "display_name": "Python 3 (ipykernel)",
   "language": "python",
   "name": "python3"
  },
  "language_info": {
   "codemirror_mode": {
    "name": "ipython",
    "version": 3
   },
   "file_extension": ".py",
   "mimetype": "text/x-python",
   "name": "python",
   "nbconvert_exporter": "python",
   "pygments_lexer": "ipython3",
   "version": "3.9.7"
  }
 },
 "nbformat": 4,
 "nbformat_minor": 5
}
