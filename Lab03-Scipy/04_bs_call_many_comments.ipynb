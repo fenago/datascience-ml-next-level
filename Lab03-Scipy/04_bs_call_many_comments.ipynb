{
 "cells": [
  {
   "cell_type": "code",
   "execution_count": null,
   "id": "64e5c6d2",
   "metadata": {
    "lines_to_next_cell": 0
   },
   "outputs": [],
   "source": []
  },
  {
   "cell_type": "code",
   "execution_count": null,
   "id": "c6683edd",
   "metadata": {
    "lines_to_next_cell": 2
   },
   "outputs": [],
   "source": [
    "from scipy import log,exp,sqrt,stats\n",
    "def bs_call(S,X,T,r,sigma):\n",
    "    \"\"\"\n",
    "    Objective: estimate Black-Scholes-Merton call price\n",
    "    S: stock price\n",
    "    X: exercise price\n",
    "    T: maturity date in years\n",
    "    r: risk-free rate\n",
    "    sigma: standard deviation of returns\n",
    "    \n",
    "    Example:\n",
    "    >>>print bs_call(20,20,0.5,0.05,0.15)\n",
    "    1.10542302373\n",
    "    \"\"\"\n",
    "    d1=(log(S/X)+(r+sigma*sigma/2.)*T)/(sigma*sqrt(T))\n",
    "    d2 = d1-sigma*sqrt(T)\n",
    "    return S*stats.norm.cdf(d1)-X*exp(-r*T)*stats.norm.cdf(d2)"
   ]
  }
 ],
 "metadata": {
  "jupytext": {
   "cell_metadata_filter": "-all",
   "main_language": "python",
   "notebook_metadata_filter": "-all"
  }
 },
 "nbformat": 4,
 "nbformat_minor": 5
}
