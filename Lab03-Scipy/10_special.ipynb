{
 "cells": [
  {
   "cell_type": "markdown",
   "id": "236d6bb2",
   "metadata": {},
   "source": [
    "#### Cubic Root Function"
   ]
  },
  {
   "cell_type": "code",
   "execution_count": null,
   "id": "65ddfe24",
   "metadata": {},
   "outputs": [],
   "source": [
    "from scipy.special import cbrt\n",
    "res = cbrt([10, 9, 0.1254, 234])\n",
    "print(res)"
   ]
  },
  {
   "cell_type": "code",
   "execution_count": null,
   "id": "d8138f7e",
   "metadata": {},
   "outputs": [],
   "source": []
  },
  {
   "cell_type": "markdown",
   "id": "174409dc",
   "metadata": {},
   "source": [
    "#### Exponential Function"
   ]
  },
  {
   "cell_type": "code",
   "execution_count": null,
   "id": "b9b93efe",
   "metadata": {},
   "outputs": [],
   "source": [
    "from scipy.special import exp10\n",
    "res = exp10([2, 9])\n",
    "print(res)"
   ]
  },
  {
   "cell_type": "code",
   "execution_count": null,
   "id": "bf95160d",
   "metadata": {},
   "outputs": [],
   "source": []
  },
  {
   "cell_type": "markdown",
   "id": "c2aaa1a4",
   "metadata": {},
   "source": [
    "#### Log Sum Exponential Function"
   ]
  },
  {
   "cell_type": "code",
   "execution_count": null,
   "id": "fef21a6c",
   "metadata": {},
   "outputs": [],
   "source": [
    "from scipy.special import logsumexp\n",
    "import numpy as np\n",
    "a = np.arange(10)\n",
    "res = logsumexp(a)\n",
    "print(res)"
   ]
  },
  {
   "cell_type": "code",
   "execution_count": null,
   "id": "feb8092a",
   "metadata": {},
   "outputs": [],
   "source": []
  },
  {
   "cell_type": "markdown",
   "id": "b05a61fe",
   "metadata": {},
   "source": [
    "#### Combinations"
   ]
  },
  {
   "cell_type": "code",
   "execution_count": null,
   "id": "ace1a508",
   "metadata": {},
   "outputs": [],
   "source": [
    "from scipy.special import comb\n",
    "res = comb(10, 3, exact = False,repetition=True)\n",
    "print(res)"
   ]
  },
  {
   "cell_type": "markdown",
   "id": "0d8d0dac",
   "metadata": {},
   "source": [
    "#### Permutations"
   ]
  },
  {
   "cell_type": "code",
   "execution_count": null,
   "id": "22435b8c",
   "metadata": {},
   "outputs": [],
   "source": [
    "from scipy.special import perm\n",
    "res = perm(10, 3, exact = True)\n",
    "print(res)"
   ]
  },
  {
   "cell_type": "code",
   "execution_count": null,
   "id": "1b60a26a",
   "metadata": {},
   "outputs": [],
   "source": []
  },
  {
   "cell_type": "code",
   "execution_count": null,
   "id": "f5e57a10",
   "metadata": {},
   "outputs": [],
   "source": []
  },
  {
   "cell_type": "code",
   "execution_count": null,
   "id": "3eec857a",
   "metadata": {},
   "outputs": [],
   "source": []
  }
 ],
 "metadata": {
  "kernelspec": {
   "display_name": "Python 3 (ipykernel)",
   "language": "python",
   "name": "python3"
  },
  "language_info": {
   "codemirror_mode": {
    "name": "ipython",
    "version": 3
   },
   "file_extension": ".py",
   "mimetype": "text/x-python",
   "name": "python",
   "nbconvert_exporter": "python",
   "pygments_lexer": "ipython3",
   "version": "3.9.7"
  }
 },
 "nbformat": 4,
 "nbformat_minor": 5
}
