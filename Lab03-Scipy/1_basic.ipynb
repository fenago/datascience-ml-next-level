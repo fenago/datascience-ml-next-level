{
 "cells": [
  {
   "cell_type": "code",
   "execution_count": null,
   "id": "c5683338",
   "metadata": {},
   "outputs": [],
   "source": [
    "import numpy as np\n",
    "list = [1,2,3,4]\n",
    "arr = np.array(list)\n",
    "print (arr)"
   ]
  },
  {
   "cell_type": "code",
   "execution_count": null,
   "id": "b3e622fd",
   "metadata": {},
   "outputs": [],
   "source": []
  },
  {
   "cell_type": "code",
   "execution_count": null,
   "id": "dadadc6d",
   "metadata": {},
   "outputs": [],
   "source": [
    "import numpy as np\n",
    "print (np.zeros((2, 3)))"
   ]
  },
  {
   "cell_type": "code",
   "execution_count": null,
   "id": "1bfb0bec",
   "metadata": {},
   "outputs": [],
   "source": []
  },
  {
   "cell_type": "code",
   "execution_count": null,
   "id": "23c8637b",
   "metadata": {},
   "outputs": [],
   "source": [
    "import numpy as np\n",
    "print (np.ones((2, 3)))"
   ]
  },
  {
   "cell_type": "code",
   "execution_count": null,
   "id": "736f4cef",
   "metadata": {},
   "outputs": [],
   "source": []
  },
  {
   "cell_type": "code",
   "execution_count": null,
   "id": "13818f5a",
   "metadata": {},
   "outputs": [],
   "source": [
    "import numpy as np\n",
    "print (np.arange(7))"
   ]
  },
  {
   "cell_type": "code",
   "execution_count": null,
   "id": "7f7a21ab",
   "metadata": {},
   "outputs": [],
   "source": []
  },
  {
   "cell_type": "code",
   "execution_count": null,
   "id": "19f97089",
   "metadata": {},
   "outputs": [],
   "source": [
    "import numpy as np\n",
    "arr = np.arange(2, 10, dtype = np.float)\n",
    "print (arr)\n",
    "print (\"Array Data Type :\" , arr.dtype)"
   ]
  },
  {
   "cell_type": "code",
   "execution_count": null,
   "id": "28ca9ccd",
   "metadata": {},
   "outputs": [],
   "source": []
  },
  {
   "cell_type": "code",
   "execution_count": null,
   "id": "02add1d6",
   "metadata": {},
   "outputs": [],
   "source": [
    "import numpy as np\n",
    "print (np.linspace(1., 4., 6))"
   ]
  },
  {
   "cell_type": "code",
   "execution_count": null,
   "id": "c18df5f4",
   "metadata": {},
   "outputs": [],
   "source": []
  },
  {
   "cell_type": "code",
   "execution_count": null,
   "id": "fbde7577",
   "metadata": {},
   "outputs": [],
   "source": [
    "import numpy as np\n",
    "print (np.matrix('1 2; 3 4'))"
   ]
  },
  {
   "cell_type": "code",
   "execution_count": null,
   "id": "b7a0c8b4",
   "metadata": {},
   "outputs": [],
   "source": []
  },
  {
   "cell_type": "code",
   "execution_count": null,
   "id": "68c31385",
   "metadata": {},
   "outputs": [],
   "source": [
    "import numpy as np\n",
    "mat = np.matrix('1 2; 3 4')\n",
    "print (mat.H)"
   ]
  },
  {
   "cell_type": "code",
   "execution_count": null,
   "id": "dcf68d0d",
   "metadata": {},
   "outputs": [],
   "source": []
  },
  {
   "cell_type": "code",
   "execution_count": null,
   "id": "3a136d3a",
   "metadata": {},
   "outputs": [],
   "source": [
    "import numpy as np\n",
    "mat = np.matrix('1 2; 3 4')\n",
    "mat.T"
   ]
  },
  {
   "cell_type": "code",
   "execution_count": null,
   "id": "6d798f25",
   "metadata": {},
   "outputs": [],
   "source": []
  }
 ],
 "metadata": {
  "kernelspec": {
   "display_name": "Python 3 (ipykernel)",
   "language": "python",
   "name": "python3"
  },
  "language_info": {
   "codemirror_mode": {
    "name": "ipython",
    "version": 3
   },
   "file_extension": ".py",
   "mimetype": "text/x-python",
   "name": "python",
   "nbconvert_exporter": "python",
   "pygments_lexer": "ipython3",
   "version": "3.9.7"
  }
 },
 "nbformat": 4,
 "nbformat_minor": 5
}
