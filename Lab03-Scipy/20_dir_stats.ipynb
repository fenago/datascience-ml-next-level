{
 "cells": [
  {
   "cell_type": "code",
   "execution_count": null,
   "id": "807d0b6c",
   "metadata": {
    "lines_to_next_cell": 0
   },
   "outputs": [],
   "source": []
  },
  {
   "cell_type": "code",
   "execution_count": null,
   "id": "74bd5dc4",
   "metadata": {},
   "outputs": [],
   "source": [
    "from scipy import stats\n",
    "print dir(stats)    "
   ]
  }
 ],
 "metadata": {
  "jupytext": {
   "cell_metadata_filter": "-all",
   "main_language": "python",
   "notebook_metadata_filter": "-all"
  }
 },
 "nbformat": 4,
 "nbformat_minor": 5
}
