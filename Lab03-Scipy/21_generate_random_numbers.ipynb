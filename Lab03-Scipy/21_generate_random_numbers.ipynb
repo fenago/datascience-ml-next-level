{
 "cells": [
  {
   "cell_type": "code",
   "execution_count": null,
   "id": "65e2db5b",
   "metadata": {
    "lines_to_next_cell": 0
   },
   "outputs": [],
   "source": []
  },
  {
   "cell_type": "code",
   "execution_count": null,
   "id": "67a73bb1",
   "metadata": {},
   "outputs": [],
   "source": [
    "import scipy as sp"
   ]
  },
  {
   "cell_type": "code",
   "execution_count": null,
   "id": "48f310ba",
   "metadata": {},
   "outputs": [],
   "source": [
    "x=sp.random.rand(10) \t      # 10 random numbers from [0,1)\n",
    "y=sp.random.rand(5,2)        # random numbers 5 by 2 array\n",
    "z=sp.random.normal(0,1,100)  # from a standard normal"
   ]
  },
  {
   "cell_type": "code",
   "execution_count": null,
   "id": "5202ce1c",
   "metadata": {},
   "outputs": [],
   "source": [
    "print 'x=',x\n",
    "print 'y=',y\n",
    "print 'z=',z"
   ]
  }
 ],
 "metadata": {
  "jupytext": {
   "cell_metadata_filter": "-all",
   "main_language": "python",
   "notebook_metadata_filter": "-all"
  }
 },
 "nbformat": 4,
 "nbformat_minor": 5
}
