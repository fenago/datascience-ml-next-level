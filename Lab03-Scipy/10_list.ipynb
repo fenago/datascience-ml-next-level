{
 "cells": [
  {
   "cell_type": "code",
   "execution_count": null,
   "id": "78eec477",
   "metadata": {},
   "outputs": [],
   "source": [
    "x=[1,2,\"John\", \"M\", \"Student\"]"
   ]
  },
  {
   "cell_type": "code",
   "execution_count": null,
   "id": "9d8658fd",
   "metadata": {},
   "outputs": [],
   "source": [
    "print 'type is ',type(x)"
   ]
  },
  {
   "cell_type": "code",
   "execution_count": null,
   "id": "ef60b675",
   "metadata": {},
   "outputs": [],
   "source": []
  }
 ],
 "metadata": {
  "jupytext": {
   "cell_metadata_filter": "-all",
   "main_language": "python",
   "notebook_metadata_filter": "-all"
  }
 },
 "nbformat": 4,
 "nbformat_minor": 5
}
