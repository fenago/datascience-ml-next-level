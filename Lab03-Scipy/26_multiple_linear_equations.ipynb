{
 "cells": [
  {
   "cell_type": "code",
   "execution_count": null,
   "id": "49852482",
   "metadata": {
    "lines_to_next_cell": 0
   },
   "outputs": [],
   "source": []
  },
  {
   "cell_type": "code",
   "execution_count": null,
   "id": "486b3fb3",
   "metadata": {},
   "outputs": [],
   "source": [
    "import scipy as sp\n",
    "A=sp.mat('[1 2 5; 2 5 1; 2 3 8]')\n",
    "b = sp.mat('[10;8;5]')"
   ]
  },
  {
   "cell_type": "code",
   "execution_count": null,
   "id": "235a2a03",
   "metadata": {},
   "outputs": [],
   "source": [
    "print 'A.I*b=', A.I*b      "
   ]
  },
  {
   "cell_type": "code",
   "execution_count": null,
   "id": "10de3591",
   "metadata": {},
   "outputs": [],
   "source": [
    "print linalg.solve(A,b)  # offer the same solution"
   ]
  }
 ],
 "metadata": {
  "jupytext": {
   "cell_metadata_filter": "-all",
   "main_language": "python",
   "notebook_metadata_filter": "-all"
  }
 },
 "nbformat": 4,
 "nbformat_minor": 5
}
