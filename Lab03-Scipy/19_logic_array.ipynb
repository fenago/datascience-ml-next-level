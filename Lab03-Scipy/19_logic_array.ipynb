{
 "cells": [
  {
   "cell_type": "code",
   "execution_count": null,
   "id": "73bce2ee",
   "metadata": {
    "lines_to_next_cell": 0
   },
   "outputs": [],
   "source": []
  },
  {
   "cell_type": "code",
   "execution_count": null,
   "id": "ff4a395b",
   "metadata": {},
   "outputs": [],
   "source": [
    "import numpy as np\n",
    "x=np.array([True,False,True,False],bool)\n",
    "a=any(x)  \t# if one item is TRUE then return TRUE\n",
    "print a"
   ]
  },
  {
   "cell_type": "code",
   "execution_count": null,
   "id": "b35d214f",
   "metadata": {},
   "outputs": [],
   "source": [
    "b=all(x)  \t# if all are TRUE then return TRUE\n",
    "print b"
   ]
  },
  {
   "cell_type": "code",
   "execution_count": null,
   "id": "d15b5970",
   "metadata": {},
   "outputs": [],
   "source": [
    "cashFlows=np.array([-100,50,40,30,100,-5])\n",
    "a=cashFlows>0  # [False,True,True,True,True,False]\n",
    "print a"
   ]
  },
  {
   "cell_type": "code",
   "execution_count": null,
   "id": "03c73c13",
   "metadata": {
    "lines_to_next_cell": 2
   },
   "outputs": [],
   "source": [
    "d=np.logical_and(cashFlows>0, cashFlows<60)\n",
    "print d"
   ]
  }
 ],
 "metadata": {
  "jupytext": {
   "cell_metadata_filter": "-all",
   "main_language": "python",
   "notebook_metadata_filter": "-all"
  }
 },
 "nbformat": 4,
 "nbformat_minor": 5
}
