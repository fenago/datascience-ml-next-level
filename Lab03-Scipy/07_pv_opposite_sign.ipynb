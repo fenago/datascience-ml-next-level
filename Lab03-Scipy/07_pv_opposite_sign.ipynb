{
 "cells": [
  {
   "cell_type": "code",
   "execution_count": null,
   "id": "38822835",
   "metadata": {},
   "outputs": [],
   "source": [
    "import scipy as sp"
   ]
  },
  {
   "cell_type": "code",
   "execution_count": null,
   "id": "7c03e726",
   "metadata": {},
   "outputs": [],
   "source": [
    "print round(sp.pv(0.1,5,0,100),2)"
   ]
  },
  {
   "cell_type": "code",
   "execution_count": null,
   "id": "68bcfd39",
   "metadata": {
    "lines_to_next_cell": 2
   },
   "outputs": [],
   "source": [
    "print round(sp.pv(0.1,5,0,-100),2)"
   ]
  }
 ],
 "metadata": {
  "jupytext": {
   "cell_metadata_filter": "-all",
   "main_language": "python",
   "notebook_metadata_filter": "-all"
  }
 },
 "nbformat": 4,
 "nbformat_minor": 5
}
