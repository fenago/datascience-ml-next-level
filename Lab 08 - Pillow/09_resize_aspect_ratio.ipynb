{
  "cells": [
    {
      "cell_type": "markdown",
      "metadata": {},
      "source": [
        "## How to Resize Images\n",
        "It is important to be able to resize images before modeling. Sometimes it is desirable to\n",
        "thumbnail all images to have the same width or height. This can be achieved with Pillow using\n",
        "the thumbnail() function. The function takes a tuple with the height and width, and the image\n",
        "will be resized so that the height and width of the image are equal or smaller than the specified\n",
        "shape.\n",
        "For example, the test photograph we have been working with has the width and height of\n",
        "(640, 360). We can resize it to (100, 100), in which case the largest dimension, in this case, the\n",
        "width, will be reduced to 100, and the height will be scaled in order to retain the aspect ratio of\n",
        "the image. The example below will load the photograph and create a smaller thumbnail with a\n",
        "width and height of 100 pixels."
      ]
    },
    {
      "cell_type": "markdown",
      "metadata": {},
      "source": [
        " \n",
        "We may not want to preserve the aspect ratio, and instead, we may want to force the pixels\n",
        "into a new shape. This can be achieved using the resize() function that allows you to specify\n",
        "the width and height in pixels and the image will be reduced or stretched to fit the new shape.\n",
        "The example below demonstrates how to resize a new image and ignore the original aspect ratio."
      ]
    },
    {
      "cell_type": "markdown",
      "metadata": {},
      "source": [
        " \n",
        "Running the example loads the image, reports the shape of the image, then resizes it to have\n",
        "a width and height of 200 pixels."
      ]
    },
    {
      "cell_type": "code",
      "metadata": {},
      "source": [
        "# resize image and force a new shape\n",
        "from PIL import Image\n",
        "from IPython.display import display # to display images\n",
        "\n",
        "# load the image\n",
        "image = Image.open('opera_house.jpg')\n",
        "# report the size of the image\n",
        "print(image.size)\n",
        "# resize image and ignore original aspect ratio\n",
        "img_resized = image.resize((200,200))\n",
        "# report the size of the thumbnail\n",
        "print(img_resized.size)\n",
        "# show the image\n",
        "# img_resized.show()\n",
        "display(img_resized)"
      ],
      "outputs": [],
      "execution_count": null
    },
    {
      "cell_type": "markdown",
      "metadata": {},
      "source": [
        " \n",
        "The size of the image is shown and we can see that the wide photograph has been compressed\n",
        "into a square, although all of the features are still quite visible and obvious. Standard resampling\n",
        "algorithms are used to invent or remove pixels when resizing, and you can specify a technique,\n",
        "although default is a bicubic resampling algorithm that suits most general applications."
      ]
    }
  ],
  "metadata": {
    "anaconda-cloud": {},
    "kernelspec": {
      "display_name": "Python 3",
      "language": "python",
      "name": "python3"
    },
    "language_info": {
      "codemirror_mode": {
        "name": "ipython",
        "version": 3
      },
      "file_extension": ".py",
      "mimetype": "text/x-python",
      "name": "python",
      "nbconvert_exporter": "python",
      "pygments_lexer": "ipython3",
      "version": "3.6.1"
    }
  },
  "nbformat": 4,
  "nbformat_minor": 1
}