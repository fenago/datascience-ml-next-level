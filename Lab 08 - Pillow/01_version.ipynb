{
  "cells": [
    {
      "cell_type": "markdown",
      "metadata": {},
      "source": [
        "## How to Install Pillow\n",
        "The Python Imaging Library, or PIL for short, is an open source library for loading and\n",
        "manipulating images. It was developed and made available more than 25 years ago and has\n",
        "become a de facto standard API for working with images in Python. The library is now defunct\n",
        "and no longer updated and does not support Python 3. Pillow is a PIL library that supports\n",
        "Python 3 and is the preferred modern library for image manipulation in Python. It is even\n",
        "required for simple image loading and saving in other Python scientific libraries such as SciPy\n",
        "and Matplotlib.\n",
        "\n",
        "The Pillow library is installed as a part of most SciPy installations; for example, if you are\n",
        "using Anaconda. If you manage the installation of Python software packages yourself for your\n",
        "workstation, you can easily install Pillow using pip; for example:\n",
        "\n",
        "sudo pip install Pillow\n",
        "\n",
        "Pillow is built on top of the older PIL and you can confirm that the library was installed\n",
        "correctly by printing the version number; for example:"
      ]
    },
    {
      "cell_type": "code",
      "metadata": {},
      "source": [
        "# check PIL and Pillow version numbers\n",
        "import PIL\n",
        "print('Pillow Version:', PIL.__version__)\n"
      ],
      "outputs": [],
      "execution_count": null
    }
  ],
  "metadata": {
    "anaconda-cloud": {},
    "kernelspec": {
      "display_name": "Python 3",
      "language": "python",
      "name": "python3"
    },
    "language_info": {
      "codemirror_mode": {
        "name": "ipython",
        "version": 3
      },
      "file_extension": ".py",
      "mimetype": "text/x-python",
      "name": "python",
      "nbconvert_exporter": "python",
      "pygments_lexer": "ipython3",
      "version": "3.6.1"
    }
  },
  "nbformat": 4,
  "nbformat_minor": 1
}