{
  "cells": [
    {
      "cell_type": "markdown",
      "metadata": {},
      "source": [
        "## How to Flip, Rotate, and Crop Images\n",
        "Simple image manipulation can be used to create new versions of images that, in turn, can provide\n",
        "a richer training dataset when modeling. Generally, this is referred to as data augmentation\n",
        "and may involve creating flipped, rotated, cropped, or other modified versions of the original\n",
        "images with the hope that the algorithm will learn to extract the same features from the image\n",
        "data regardless of where they might appear. You may want to implement your own data\n",
        "augmentation schemes, in which case you need to know how to perform basic manipulations of\n",
        "your image data."
      ]
    },
    {
      "cell_type": "markdown",
      "metadata": {},
      "source": [
        "## Flip Image\n",
        "An image can be flipped by calling the flip() function and passing in a method such as\n",
        "FLIP LEFT RIGHT for a horizontal flip or FLIP TOP BOTTOM for a vertical flip. Other flips are\n",
        "also available. The example below creates both horizontal and vertical flipped versions of the\n",
        "image."
      ]
    },
    {
      "cell_type": "code",
      "metadata": {},
      "source": [
        "# create flipped versions of an image\n",
        "from PIL import Image\n",
        "\n",
        "%matplotlib notebook\n",
        "from matplotlib import pyplot\n",
        "# load image\n",
        "image = Image.open('opera_house.jpg')\n",
        "# horizontal flip\n",
        "hoz_flip = image.transpose(Image.FLIP_LEFT_RIGHT)\n",
        "# vertical flip\n",
        "ver_flip = image.transpose(Image.FLIP_TOP_BOTTOM)\n",
        "# plot all three images using matplotlib\n",
        "pyplot.subplot(311)\n",
        "pyplot.imshow(image)\n",
        "pyplot.subplot(312)\n",
        "pyplot.imshow(hoz_flip)\n",
        "pyplot.subplot(313)\n",
        "pyplot.imshow(ver_flip)\n",
        "pyplot.show()\n"
      ],
      "outputs": [],
      "execution_count": null
    },
    {
      "cell_type": "markdown",
      "metadata": {},
      "source": [
        "Running the example loads the photograph and creates horizontally and vertically flipped\n",
        "versions of the photograph, then plots all three versions as subplots using Matplotlib. You will\n",
        "note that the imshow() function can plot the Image object directly without having to convert\n",
        "it to a NumPy array"
      ]
    }
  ],
  "metadata": {
    "anaconda-cloud": {},
    "kernelspec": {
      "display_name": "Python 3",
      "language": "python",
      "name": "python3"
    },
    "language_info": {
      "codemirror_mode": {
        "name": "ipython",
        "version": 3
      },
      "file_extension": ".py",
      "mimetype": "text/x-python",
      "name": "python",
      "nbconvert_exporter": "python",
      "pygments_lexer": "ipython3",
      "version": "3.6.1"
    }
  },
  "nbformat": 4,
  "nbformat_minor": 1
}