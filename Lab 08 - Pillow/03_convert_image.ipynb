{
  "cells": [
    {
      "cell_type": "markdown",
      "metadata": {},
      "source": [
        "## How to Convert Images to NumPy Arrays and Back\n",
        "Often in machine learning, we want to work with images as NumPy arrays of pixel data. With\n",
        "Pillow installed, you can also use the Matplotlib library to load the image and display it within\n",
        "a Matplotlib frame. This can be achieved using the imread() function that loads the image as\n",
        "an array of pixels directly and the imshow() function that will display an array of pixels as an\n",
        "image. The example below loads and displays the same image using Matplotlib that, in turn,\n",
        "will use Pillow under the covers."
      ]
    },
    {
      "cell_type": "markdown",
      "metadata": {},
      "source": [
        " \n",
        "Running the example first loads the image and then reports the data type of the array, in\n",
        "this case, 8-bit unsigned integers, then reports the shape of the array, in this case, 360 pixels\n",
        "high by 640 pixels wide and three channels for red, green, and blue. Note, the wide and height\n",
        "order may be listed differently (e.g. reversed), depending on your platform."
      ]
    },
    {
      "cell_type": "code",
      "metadata": {},
      "source": [
        "# load and display an image with Matplotlib\n",
        "from matplotlib import image\n",
        "\n",
        "%matplotlib notebook\n",
        "from matplotlib import pyplot\n",
        "# load image as pixel array\n",
        "data = image.imread('opera_house.jpg')\n",
        "# summarize shape of the pixel array\n",
        "print(data.dtype)\n",
        "print(data.shape)\n",
        "# display the array of pixels as an image\n",
        "pyplot.imshow(data)\n",
        "pyplot.show()"
      ],
      "outputs": [],
      "execution_count": null
    }
  ],
  "metadata": {
    "anaconda-cloud": {},
    "kernelspec": {
      "display_name": "Python 3",
      "language": "python",
      "name": "python3"
    },
    "language_info": {
      "codemirror_mode": {
        "name": "ipython",
        "version": 3
      },
      "file_extension": ".py",
      "mimetype": "text/x-python",
      "name": "python",
      "nbconvert_exporter": "python",
      "pygments_lexer": "ipython3",
      "version": "3.6.1"
    }
  },
  "nbformat": 4,
  "nbformat_minor": 1
}