{
  "cells": [
    {
      "cell_type": "markdown",
      "metadata": {},
      "source": [
        "## Cropped Image\n",
        "An image can be cropped: that is, a piece can be cut out to create a new image, using the crop()\n",
        "function. The crop function takes a tuple argument that defines the two x and y coordinates of\n",
        "the box to crop out of the image. For example, if the image is 2,000 by 2,000 pixels, we can clip\n",
        "out a 100 by 100 pixel box in the image. The example below demonstrates how to create a new\n",
        "image as a crop from a loaded image."
      ]
    },
    {
      "cell_type": "markdown",
      "metadata": {},
      "source": [
        "Running the example creates a cropped square image of 100 pixels starting at 100,100 and\n",
        "extending down and left to 200,200. The cropped square is then displayed."
      ]
    },
    {
      "cell_type": "code",
      "metadata": {},
      "source": [
        "# example of cropping an image\n",
        "from PIL import Image\n",
        "from IPython.display import display # to display images\n",
        "\n",
        "# load image\n",
        "image = Image.open('opera_house.jpg')\n",
        "# create a cropped image\n",
        "cropped = image.crop((100, 100, 200, 200))\n",
        "# show cropped image\n",
        "# cropped.show()\n",
        "display(cropped)\n"
      ],
      "outputs": [],
      "execution_count": null
    }
  ],
  "metadata": {
    "anaconda-cloud": {},
    "kernelspec": {
      "display_name": "Python 3",
      "language": "python",
      "name": "python3"
    },
    "language_info": {
      "codemirror_mode": {
        "name": "ipython",
        "version": 3
      },
      "file_extension": ".py",
      "mimetype": "text/x-python",
      "name": "python",
      "nbconvert_exporter": "python",
      "pygments_lexer": "ipython3",
      "version": "3.6.1"
    }
  },
  "nbformat": 4,
  "nbformat_minor": 1
}