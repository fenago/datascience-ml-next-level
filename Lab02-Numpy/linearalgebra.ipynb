{
 "cells": [
  {
   "cell_type": "code",
   "execution_count": null,
   "id": "4462c386",
   "metadata": {
    "lines_to_next_cell": 0
   },
   "outputs": [],
   "source": []
  },
  {
   "cell_type": "code",
   "execution_count": null,
   "id": "089de996",
   "metadata": {},
   "outputs": [],
   "source": [
    "import numpy as np"
   ]
  },
  {
   "cell_type": "code",
   "execution_count": null,
   "id": "bd4502b6",
   "metadata": {},
   "outputs": [],
   "source": [
    "A = np.array([[1, 4, 6],\n",
    "              [5, 2, 2],\n",
    "              [-1, 6, 8]])"
   ]
  },
  {
   "cell_type": "code",
   "execution_count": null,
   "id": "fadbf63c",
   "metadata": {},
   "outputs": [],
   "source": [
    "w, v = np.linalg.eig(A)\n",
    "print(w)\n",
    "print(v)"
   ]
  },
  {
   "cell_type": "code",
   "execution_count": null,
   "id": "c1d86c15",
   "metadata": {
    "lines_to_next_cell": 2
   },
   "outputs": [],
   "source": [
    "A = np.array([[1, 4, 6], [5, 2, 2], [-1, 6, 8]])\n",
    "b = np.array([[1], [2], [3]])\n",
    "x = np.linalg.solve(A, b)\n",
    "print(x)"
   ]
  }
 ],
 "metadata": {
  "jupytext": {
   "cell_metadata_filter": "-all",
   "encoding": "# coding: utf-8",
   "executable": "/usr/bin/env python",
   "main_language": "python",
   "notebook_metadata_filter": "-all"
  }
 },
 "nbformat": 4,
 "nbformat_minor": 5
}
