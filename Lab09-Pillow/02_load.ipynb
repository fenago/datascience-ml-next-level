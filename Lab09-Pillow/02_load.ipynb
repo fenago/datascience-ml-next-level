{
  "cells": [
    {
      "cell_type": "markdown",
      "metadata": {},
      "source": [
        "## How to Load and Display Images\n",
        "We need a test image to demonstrate some important features of using the Pillow library. In\n",
        "this tutorial, we will use a photograph of the Sydney Opera House, taken by Ed Dunens2 and\n",
        "made available on Flickr under a creative commons license, some rights reserved.\n",
        "\n",
        "Images are typically in PNG or JPEG format and can be loaded directly using the open()\n",
        "function on Image class. This returns an Image object that contains the pixel data for the\n",
        "image as well as details about the image. The Image class is the main workhorse for the Pillow\n",
        "library and provides a ton of properties about the image as well as functions that allow you to\n",
        "manipulate the pixels and format of the image.\n",
        "The format property on the image will report the image format (e.g. JPEG), the mode will\n",
        "report the pixel channel format (e.g. RGB or CMYK), and the size will report the dimensions\n",
        "of the image in pixels (e.g. 640 X 480). The show() function will display the image using your\n",
        "operating systems default application. The example below demonstrates how to load and show\n",
        "an image using the Image class in the Pillow library"
      ]
    },
    {
      "cell_type": "markdown",
      "metadata": {},
      "source": [
        " \n",
        "Running the example will first load the image, report the format, mode, and size, then show\n",
        "the image on your notebook."
      ]
    },
    {
      "cell_type": "code",
      "metadata": {},
      "source": [
        "# load and show an image with Pillow\n",
        "from PIL import Image\n",
        "from IPython.display import display # to display images\n",
        "\n",
        "# load the image\n",
        "image = Image.open('opera_house.jpg')\n",
        "# summarize some details about the image\n",
        "print(image.format)\n",
        "print(image.mode)\n",
        "print(image.size)\n",
        "# show the image\n",
        "# image.show()\n",
        "display(image)"
      ],
      "outputs": [],
      "execution_count": null
    }
  ],
  "metadata": {
    "anaconda-cloud": {},
    "kernelspec": {
      "display_name": "Python 3",
      "language": "python",
      "name": "python3"
    },
    "language_info": {
      "codemirror_mode": {
        "name": "ipython",
        "version": 3
      },
      "file_extension": ".py",
      "mimetype": "text/x-python",
      "name": "python",
      "nbconvert_exporter": "python",
      "pygments_lexer": "ipython3",
      "version": "3.6.1"
    }
  },
  "nbformat": 4,
  "nbformat_minor": 1
}