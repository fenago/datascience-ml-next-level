{
 "cells": [
  {
   "cell_type": "markdown",
   "metadata": {},
   "source": [
    "## How to Save Images to File\n",
    "Saving images is useful if you perform some data preparation on the image before modeling.\n",
    "One example is converting color images (RGB channels) to grayscale (1 channel). There are a\n",
    "number of ways to convert an image to grayscale, but Pillow provides the convert() function\n",
    "and the mode â€˜Lâ€™ will convert an image to grayscale."
   ]
  },
  {
   "cell_type": "markdown",
   "metadata": {},
   "source": [
    " \n",
    "Running the example loads the photograph, converts it to grayscale, saves the image in a\n",
    "new file, then loads it again and shows it to confirm that the photo is now grayscale instead of\n",
    "color."
   ]
  },
  {
   "cell_type": "code",
   "execution_count": null,
   "metadata": {},
   "outputs": [],
   "source": [
    "# example of saving a grayscale version of a loaded image\n",
    "from PIL import Image\n",
    "from IPython.display import display # to display images\n",
    "\n",
    "# load the image\n",
    "image = Image.open('opera_house.jpg')\n",
    "# convert the image to grayscale\n",
    "gs_image = image.convert(mode='L')\n",
    "# save in jpeg format\n",
    "gs_image.save('tmp_opera_house_grayscale.jpg')\n",
    "# load the image again and show it\n",
    "image2 = Image.open('tmp_opera_house_grayscale.jpg')\n",
    "# show the image\n",
    "# image2.show()\n",
    "display(image2)"
   ]
  }
 ],
 "metadata": {
  "anaconda-cloud": {},
  "kernelspec": {
   "display_name": "Python 3 (ipykernel)",
   "language": "python",
   "name": "python3"
  },
  "language_info": {
   "codemirror_mode": {
    "name": "ipython",
    "version": 3
   },
   "file_extension": ".py",
   "mimetype": "text/x-python",
   "name": "python",
   "nbconvert_exporter": "python",
   "pygments_lexer": "ipython3",
   "version": "3.9.7"
  }
 },
 "nbformat": 4,
 "nbformat_minor": 1
}
