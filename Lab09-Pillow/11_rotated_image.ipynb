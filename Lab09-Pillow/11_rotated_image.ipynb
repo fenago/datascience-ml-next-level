{
  "cells": [
    {
      "cell_type": "markdown",
      "metadata": {},
      "source": [
        "## Rotate Image\n",
        "An image can be rotated using the rotate() function and passing in the angle for the rotation.\n",
        "The function offers additional control such as whether or not to expand the dimensions of the\n",
        "image to fit the rotated pixel values (default is to clip to the same size), where to center the\n",
        "rotation of the image (default is the center), and the fill color for pixels outside of the image\n",
        "(default is black). The example below creates a few rotated versions of the image."
      ]
    },
    {
      "cell_type": "code",
      "metadata": {},
      "source": [
        "# create rotated versions of an image\n",
        "from PIL import Image\n",
        "\n",
        "%matplotlib notebook\n",
        "from matplotlib import pyplot\n",
        "# load image\n",
        "image = Image.open('opera_house.jpg')\n",
        "# plot original image\n",
        "pyplot.subplot(311)\n",
        "pyplot.imshow(image)\n",
        "# rotate 45 degrees\n",
        "pyplot.subplot(312)\n",
        "pyplot.imshow(image.rotate(45))\n",
        "# rotate 90 degrees\n",
        "pyplot.subplot(313)\n",
        "pyplot.imshow(image.rotate(90))\n",
        "pyplot.show()\n"
      ],
      "outputs": [],
      "execution_count": null
    },
    {
      "cell_type": "markdown",
      "metadata": {},
      "source": [
        "Running the example plots the original photograph, then a version of the photograph rotated\n",
        "45 degrees, and another rotated 90 degrees. You can see that in both rotations, the pixels are\n",
        "clipped to the original dimensions of the image and that the empty pixels are filled with black\n",
        "color."
      ]
    }
  ],
  "metadata": {
    "anaconda-cloud": {},
    "kernelspec": {
      "display_name": "Python 3",
      "language": "python",
      "name": "python3"
    },
    "language_info": {
      "codemirror_mode": {
        "name": "ipython",
        "version": 3
      },
      "file_extension": ".py",
      "mimetype": "text/x-python",
      "name": "python",
      "nbconvert_exporter": "python",
      "pygments_lexer": "ipython3",
      "version": "3.6.1"
    }
  },
  "nbformat": 4,
  "nbformat_minor": 1
}