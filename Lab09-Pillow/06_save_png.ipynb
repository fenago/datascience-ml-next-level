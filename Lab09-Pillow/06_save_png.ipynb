{
 "cells": [
  {
   "cell_type": "markdown",
   "metadata": {},
   "source": [
    "## How to Save Images to File\n",
    "An image object can be saved by calling the save() function. This can be useful if you want\n",
    "to save an image in a different format, in which case the format argument can be specified,\n",
    "such as PNG, GIF, or PEG. For example, the code listing below loads the photograph in JPEG\n",
    "format and saves it in PNG format."
   ]
  },
  {
   "cell_type": "markdown",
   "metadata": {},
   "source": [
    " \n",
    "Running the example loads the JPEG image, saves it in PNG format, then loads the newly\n",
    "saved image again, and confirms that the format is indeed PNG."
   ]
  },
  {
   "cell_type": "code",
   "execution_count": null,
   "metadata": {},
   "outputs": [],
   "source": [
    "# example of saving an image in another format\n",
    "from PIL import Image\n",
    "# load the image\n",
    "image = Image.open('opera_house.jpg')\n",
    "# save as PNG format\n",
    "image.save('tmp_opera_house.png', format='PNG')\n",
    "# load the image again and inspect the format\n",
    "image2 = Image.open('tmp_opera_house.png')\n",
    "print(image2.format)"
   ]
  }
 ],
 "metadata": {
  "anaconda-cloud": {},
  "kernelspec": {
   "display_name": "Python 3 (ipykernel)",
   "language": "python",
   "name": "python3"
  },
  "language_info": {
   "codemirror_mode": {
    "name": "ipython",
    "version": 3
   },
   "file_extension": ".py",
   "mimetype": "text/x-python",
   "name": "python",
   "nbconvert_exporter": "python",
   "pygments_lexer": "ipython3",
   "version": "3.9.7"
  }
 },
 "nbformat": 4,
 "nbformat_minor": 1
}
