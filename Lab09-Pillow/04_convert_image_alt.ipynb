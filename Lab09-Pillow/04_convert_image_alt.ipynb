{
  "cells": [
    {
      "cell_type": "markdown",
      "metadata": {},
      "source": [
        "The Matplotlib wrapper functions can be more effective than using Pillow directly. Nevertheless, you can access the pixel data from a Pillow Image. Perhaps the simplest way is to\n",
        "construct a NumPy array and pass in the Image object. The process can be reversed, converting\n",
        "a given array of pixel data into a Pillow Image object using the Image.fromarray() function.\n",
        "This can be useful if image data is manipulated as a NumPy array and you then want to save it\n",
        "later as a PNG or JPEG file. The example below loads the photo as a Pillow Image object and\n",
        "converts it to a NumPy array, then converts it back to an Image object again."
      ]
    },
    {
      "cell_type": "markdown",
      "metadata": {},
      "source": [
        " \n",
        "Running the example first loads the photo as a Pillow image then converts it to a NumPy\n",
        "array and reports the shape of the array. Finally, the array is converted back into a Pillow\n",
        "image and the details are reported."
      ]
    },
    {
      "cell_type": "code",
      "metadata": {},
      "source": [
        "# load image and convert to and from NumPy array\n",
        "from PIL import Image\n",
        "from numpy import asarray\n",
        "# load the image\n",
        "image = Image.open('opera_house.jpg')\n",
        "# convert image to numpy array\n",
        "data = asarray(image)\n",
        "# summarize shape\n",
        "print(data.shape)\n",
        "# create Pillow image\n",
        "image2 = Image.fromarray(data)\n",
        "# summarize image details\n",
        "print(image2.format)\n",
        "print(image2.mode)\n",
        "print(image2.size)"
      ],
      "outputs": [],
      "execution_count": null
    }
  ],
  "metadata": {
    "anaconda-cloud": {},
    "kernelspec": {
      "display_name": "Python 3",
      "language": "python",
      "name": "python3"
    },
    "language_info": {
      "codemirror_mode": {
        "name": "ipython",
        "version": 3
      },
      "file_extension": ".py",
      "mimetype": "text/x-python",
      "name": "python",
      "nbconvert_exporter": "python",
      "pygments_lexer": "ipython3",
      "version": "3.6.1"
    }
  },
  "nbformat": 4,
  "nbformat_minor": 1
}