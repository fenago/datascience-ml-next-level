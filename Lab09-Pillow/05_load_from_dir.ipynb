{
  "cells": [
    {
      "cell_type": "markdown",
      "metadata": {},
      "source": [
        " \n",
        "## How to Convert Images to NumPy Array\n",
        "Both approaches are effective for loading image data into NumPy arrays, although the\n",
        "Matplotlib imread() function uses fewer lines of code than loading and converting a Pillow\n",
        "Image object and may be preferred. For example, you could easily load all images in a directory\n",
        "as a list as follows:"
      ]
    },
    {
      "cell_type": "code",
      "metadata": {},
      "source": [
        "# load all images in a directory\n",
        "from os import listdir\n",
        "from matplotlib import image\n",
        "# load all images in a directory\n",
        "loaded_images = list()\n",
        "for filename in listdir('images'):\n",
        "\t# load image\n",
        "\timg_data = image.imread('images/' + filename)\n",
        "\t# store loaded image\n",
        "\tloaded_images.append(img_data)\n",
        "\tprint('> loaded %s %s' % (filename, img_data.shape))"
      ],
      "outputs": [],
      "execution_count": null
    }
  ],
  "metadata": {
    "anaconda-cloud": {},
    "kernelspec": {
      "display_name": "Python 3",
      "language": "python",
      "name": "python3"
    },
    "language_info": {
      "codemirror_mode": {
        "name": "ipython",
        "version": 3
      },
      "file_extension": ".py",
      "mimetype": "text/x-python",
      "name": "python",
      "nbconvert_exporter": "python",
      "pygments_lexer": "ipython3",
      "version": "3.6.1"
    }
  },
  "nbformat": 4,
  "nbformat_minor": 1
}