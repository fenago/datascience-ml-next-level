{
 "cells": [
  {
   "cell_type": "code",
   "execution_count": null,
   "id": "c0720de1",
   "metadata": {},
   "outputs": [],
   "source": [
    "#!/usr/bin/env python\n",
    "# coding: utf-8\n",
    "\n",
    "from sklearn import datasets\n",
    "from sklearn.cluster import KMeans\n",
    "from sklearn.model_selection import train_test_split\n",
    "#from sklearn.cross_validation import cross_val_score, train_test_split\n",
    "from sklearn.decomposition import PCA\n",
    "from sklearn.linear_model import LinearRegression\n",
    "from sklearn.preprocessing import StandardScaler\n",
    "from sklearn.svm import SVC\n",
    "import matplotlib.pyplot as plt\n",
    "import numpy as np"
   ]
  },
  {
   "cell_type": "code",
   "execution_count": null,
   "id": "d90ebc75",
   "metadata": {},
   "outputs": [],
   "source": [
    "iris = datasets.load_iris()\n",
    "\n",
    "print(type(iris))\n",
    "print(iris.keys())\n",
    "print(type(iris.data))\n",
    "print(iris.data.shape)\n",
    "print(type(iris.target))\n",
    "print(iris.target.shape)\n",
    "print(iris.target[:10])\n",
    "print(np.unique(iris.target))\n",
    "print(iris.target_names)\n",
    "print(iris.data[0])\n",
    "\n",
    "try:\n",
    "    ds = datasets.fetch_california_housing()\n",
    "    ds.data.shape\n",
    "    ds = datasets.fetch_20newsgroups()\n",
    "    len(ds.data)\n",
    "    ds.data[0][:50]\n",
    "    sum([len([w for w in sample.split()]) for sample in ds.data])   \n",
    "except Exception as err:\n",
    "    print('skipping, works only with network connection')"
   ]
  },
  {
   "cell_type": "code",
   "execution_count": null,
   "id": "b2239c95",
   "metadata": {},
   "outputs": [],
   "source": [
    "# Support Vector Classifier\n",
    "# =========================\n",
    "\n",
    "clf = SVC(probability=True)\n",
    "clf.fit(iris.data, iris.target)\n",
    "unseen = [6.0, 2.0, 3.0, 2.0]\n",
    "\n",
    "print(clf.predict(unseen))\n",
    "print(iris.target_names[clf.predict(unseen)])\n",
    "print(clf.predict_proba(unseen))\n"
   ]
  },
  {
   "cell_type": "code",
   "execution_count": null,
   "id": "96236f70",
   "metadata": {},
   "outputs": [],
   "source": [
    "\n",
    "# Regression\n",
    "# ==========\n",
    "\n",
    "X = [[1], [2], [3], [4], [5], [6], [7], [8]]\n",
    "y = [1, 2.5, 3.5, 4.8, 3.9, 5.5, 7, 8]\n",
    "\n",
    "plt.clf()\n",
    "plt.scatter(X, y, c='0.25')\n",
    "plt.savefig('regression_1.png')\n",
    "\n",
    "clf = LinearRegression()\n",
    "clf.fit(X, y)\n",
    "print(clf.coef_)\n",
    "\n",
    "plt.clf()\n",
    "plt.plot(X, clf.predict(X), '--', color='0.10', linewidth=1)\n",
    "plt.savefig('regression_2.png')"
   ]
  },
  {
   "cell_type": "code",
   "execution_count": null,
   "id": "81ae2daf",
   "metadata": {},
   "outputs": [],
   "source": [
    "\n",
    "\n",
    "# K-Means\n",
    "# =======\n",
    "\n",
    "km = KMeans(n_clusters=3)\n",
    "km.fit(iris.data)\n",
    "print(km.labels_)\n",
    "print(iris.target)\n",
    "\n",
    "tr = {1: 0, 2: 1, 0: 2}\n",
    "predicted_labels = np.array([tr[i] for i in km.labels_])\n",
    "sum([p == t for (p, t) in zip(predicted_labels, iris.target)])\n"
   ]
  },
  {
   "cell_type": "code",
   "execution_count": null,
   "id": "9a9eefec",
   "metadata": {},
   "outputs": [],
   "source": [
    "# PCA\n",
    "# ===\n",
    "\n",
    "pca = PCA(n_components=2)    \n",
    "X = StandardScaler().fit_transform(iris.data)\n",
    "Y = pca.fit_transform(X)\n",
    "\n",
    "X_train, X_test, y_train, y_test = train_test_split(iris.data, iris.target, test_size=0.4, random_state=0)\n",
    "clf = SVC()\n",
    "clf.fit(X_train, y_train)\n",
    "print(clf.score(X_test, y_test))\n",
    "\n",
    "clf = SVC()\n",
    "scores = cross_val_score(clf, iris.data, iris.target, cv=5)\n",
    "print(scores)\n",
    "print(scores.mean())"
   ]
  },
  {
   "cell_type": "code",
   "execution_count": null,
   "id": "28d464b2",
   "metadata": {},
   "outputs": [],
   "source": []
  },
  {
   "cell_type": "code",
   "execution_count": null,
   "id": "8c3d5e36",
   "metadata": {},
   "outputs": [],
   "source": []
  },
  {
   "cell_type": "code",
   "execution_count": null,
   "id": "6251e74f",
   "metadata": {},
   "outputs": [],
   "source": []
  }
 ],
 "metadata": {
  "kernelspec": {
   "display_name": "Python 3 (ipykernel)",
   "language": "python",
   "name": "python3"
  },
  "language_info": {
   "codemirror_mode": {
    "name": "ipython",
    "version": 3
   },
   "file_extension": ".py",
   "mimetype": "text/x-python",
   "name": "python",
   "nbconvert_exporter": "python",
   "pygments_lexer": "ipython3",
   "version": "3.9.7"
  }
 },
 "nbformat": 4,
 "nbformat_minor": 5
}
