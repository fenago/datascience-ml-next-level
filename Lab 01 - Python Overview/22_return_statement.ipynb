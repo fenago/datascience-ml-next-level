{
  "cells": [
    {
      "cell_type": "code",
      "metadata": {},
      "source": [
        "def return_value(a):\n",
        "\tif a >= 0:\n",
        "\t\treturn a\n",
        "\telse:\n",
        "\t\treturn -a\n",
        "print(return_value(2))\n",
        "print(return_value(-4))\n",
        "\n"
      ],
      "outputs": [],
      "execution_count": null
    }
  ],
  "metadata": {
    "anaconda-cloud": {},
    "kernelspec": {
      "display_name": "Python 3",
      "language": "python",
      "name": "python3"
    },
    "language_info": {
      "codemirror_mode": {
        "name": "ipython",
        "version": 3
      },
      "file_extension": ".py",
      "mimetype": "text/x-python",
      "name": "python",
      "nbconvert_exporter": "python",
      "pygments_lexer": "ipython3",
      "version": "3.6.1"
    }
  },
  "nbformat": 4,
  "nbformat_minor": 4
}