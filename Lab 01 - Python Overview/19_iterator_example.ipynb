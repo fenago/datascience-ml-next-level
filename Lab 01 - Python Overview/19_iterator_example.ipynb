{
  "cells": [
    {
      "cell_type": "code",
      "metadata": {},
      "source": [
        "numbers = [10, 20, 30, 40]\n",
        "numbers_iter = iter(numbers)\n",
        "print(next(numbers_iter))\n",
        "print(next(numbers_iter))\n",
        "print(numbers_iter.__next__())\n",
        "print(numbers_iter.__next__())\n",
        "next(numbers_iter)\n"
      ],
      "outputs": [],
      "execution_count": null
    }
  ],
  "metadata": {
    "anaconda-cloud": {},
    "kernelspec": {
      "display_name": "Python 3",
      "language": "python",
      "name": "python3"
    },
    "language_info": {
      "codemirror_mode": {
        "name": "ipython",
        "version": 3
      },
      "file_extension": ".py",
      "mimetype": "text/x-python",
      "name": "python",
      "nbconvert_exporter": "python",
      "pygments_lexer": "ipython3",
      "version": "3.6.1"
    }
  },
  "nbformat": 4,
  "nbformat_minor": 4
}