{
  "cells": [
    {
      "cell_type": "code",
      "metadata": {},
      "source": [
        "a = 10\n",
        "sum = 0\n",
        "i = 1\n",
        "while i <= a:\n",
        "\tsum = sum + i\n",
        "\ti = i + 1\n",
        "print(\"The sum is\", sum)\n",
        "\n"
      ],
      "outputs": [],
      "execution_count": null
    }
  ],
  "metadata": {
    "anaconda-cloud": {},
    "kernelspec": {
      "display_name": "Python 3",
      "language": "python",
      "name": "python3"
    },
    "language_info": {
      "codemirror_mode": {
        "name": "ipython",
        "version": 3
      },
      "file_extension": ".py",
      "mimetype": "text/x-python",
      "name": "python",
      "nbconvert_exporter": "python",
      "pygments_lexer": "ipython3",
      "version": "3.6.1"
    }
  },
  "nbformat": 4,
  "nbformat_minor": 4
}