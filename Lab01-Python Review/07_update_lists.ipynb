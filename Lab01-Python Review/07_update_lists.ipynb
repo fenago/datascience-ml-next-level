{
  "cells": [
    {
      "cell_type": "code",
      "metadata": {},
      "source": [
        "#!/usr/bin/python3\n",
        "cities = ['Mumbai', 'Bangalore', 'Chennai', 'Pune']\n",
        "print (\"Original Value: \", cities[3])\n",
        "cities[3] = 'Delhi'\n",
        "print (\"New value: \", cities[3])\n",
        "\n"
      ],
      "outputs": [],
      "execution_count": null
    }
  ],
  "metadata": {
    "anaconda-cloud": {},
    "kernelspec": {
      "display_name": "Python 3",
      "language": "python",
      "name": "python3"
    },
    "language_info": {
      "codemirror_mode": {
        "name": "ipython",
        "version": 3
      },
      "file_extension": ".py",
      "mimetype": "text/x-python",
      "name": "python",
      "nbconvert_exporter": "python",
      "pygments_lexer": "ipython3",
      "version": "3.6.1"
    }
  },
  "nbformat": 4,
  "nbformat_minor": 4
}