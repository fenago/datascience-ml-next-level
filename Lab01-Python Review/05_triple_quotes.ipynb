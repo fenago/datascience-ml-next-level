{
  "cells": [
    {
      "cell_type": "code",
      "metadata": {},
      "source": [
        "#!/usr/bin/python3\n",
        "\n",
        "para_str = \"\"\" Python is a scripting language which was created by\n",
        "Guido van Rossum in 1991, \\t which is used in various sectors such as \\n Game Development, GIS Programming, Software Development, web development, \n",
        "Data Analytics and Machine learning, System Scripting etc.\n",
        "\"\"\"\n",
        "print (para_str)\n",
        "\n"
      ],
      "outputs": [],
      "execution_count": null
    }
  ],
  "metadata": {
    "anaconda-cloud": {},
    "kernelspec": {
      "display_name": "Python 3",
      "language": "python",
      "name": "python3"
    },
    "language_info": {
      "codemirror_mode": {
        "name": "ipython",
        "version": 3
      },
      "file_extension": ".py",
      "mimetype": "text/x-python",
      "name": "python",
      "nbconvert_exporter": "python",
      "pygments_lexer": "ipython3",
      "version": "3.6.1"
    }
  },
  "nbformat": 4,
  "nbformat_minor": 4
}