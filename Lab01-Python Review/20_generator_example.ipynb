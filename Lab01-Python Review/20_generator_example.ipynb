{
  "cells": [
    {
      "cell_type": "code",
      "metadata": {},
      "source": [
        "def my_gen():\n",
        "\tn = 1\n",
        "\tprint('This is printed first')\n",
        "\tyield n\n",
        "\tn += 1\n",
        "\tprint('This is printed second')\n",
        "\tyield n\n",
        "\tn += 1\n",
        "\tprint('This is printed at last')\n",
        "\tyield n\n",
        "for item in my_gen():\n",
        "\tprint(item) \n",
        "\n"
      ],
      "outputs": [],
      "execution_count": null
    }
  ],
  "metadata": {
    "anaconda-cloud": {},
    "kernelspec": {
      "display_name": "Python 3",
      "language": "python",
      "name": "python3"
    },
    "language_info": {
      "codemirror_mode": {
        "name": "ipython",
        "version": 3
      },
      "file_extension": ".py",
      "mimetype": "text/x-python",
      "name": "python",
      "nbconvert_exporter": "python",
      "pygments_lexer": "ipython3",
      "version": "3.6.1"
    }
  },
  "nbformat": 4,
  "nbformat_minor": 4
}