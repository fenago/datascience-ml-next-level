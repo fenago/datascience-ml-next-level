{
 "cells": [
  {
   "cell_type": "markdown",
   "metadata": {},
   "source": [
    "# Tweaking plot parameters of a grouped bar plot"
   ]
  },
  {
   "cell_type": "code",
   "execution_count": null,
   "metadata": {},
   "outputs": [],
   "source": [
    "#Import seaborn\n",
    "import seaborn as sns\n"
   ]
  },
  {
   "cell_type": "code",
   "execution_count": null,
   "metadata": {},
   "outputs": [],
   "source": [
    "diamonds_df = sns.load_dataset('diamonds')"
   ]
  },
  {
   "cell_type": "code",
   "execution_count": null,
   "metadata": {},
   "outputs": [],
   "source": [
    "ax = sns.barplot(x=\"cut\", y=\"price\", hue='color', data=diamonds_df)"
   ]
  },
  {
   "cell_type": "code",
   "execution_count": null,
   "metadata": {},
   "outputs": [],
   "source": [
    "#Modifying legends\n",
    "ax = sns.barplot(x='cut', y='price', hue='color', data=diamonds_df)\n",
    "ax.legend(loc='upper right',ncol=4)\n"
   ]
  },
  {
   "cell_type": "code",
   "execution_count": null,
   "metadata": {},
   "outputs": [],
   "source": [
    "#Modifying x and y-axis tick labels\n",
    "ax = sns.barplot(x='cut', y='price', hue='color', data=diamonds_df)\n",
    "ax.legend(loc='upper right', ncol=4)\n",
    "ax.set_xlabel('Cut', fontdict={'fontsize' : 15})\n",
    "ax.set_ylabel('Price', fontdict={'fontsize' : 15})\n"
   ]
  },
  {
   "cell_type": "code",
   "execution_count": null,
   "metadata": {},
   "outputs": [],
   "source": [
    "#Modifying the font-size and rotation of x-axis\n",
    "ax = sns.barplot(x='cut', y='price', hue='color', data=diamonds_df)\n",
    "ax.legend(loc='upper right',ncol=4)\n",
    "# set fontsize and rotation of x-axis tick labels\n",
    "ax.set_xticklabels(ax.get_xticklabels(), fontsize=13, rotation=30)\n"
   ]
  },
  {
   "cell_type": "code",
   "execution_count": null,
   "metadata": {},
   "outputs": [],
   "source": []
  }
 ],
 "metadata": {
  "kernelspec": {
   "display_name": "Python 3",
   "language": "python",
   "name": "python3"
  },
  "language_info": {
   "codemirror_mode": {
    "name": "ipython",
    "version": 3
   },
   "file_extension": ".py",
   "mimetype": "text/x-python",
   "name": "python",
   "nbconvert_exporter": "python",
   "pygments_lexer": "ipython3",
   "version": "3.8.6"
  }
 },
 "nbformat": 4,
 "nbformat_minor": 2
}
