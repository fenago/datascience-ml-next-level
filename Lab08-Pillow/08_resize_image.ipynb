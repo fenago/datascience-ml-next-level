{
  "cells": [
    {
      "cell_type": "markdown",
      "metadata": {},
      "source": [
        "## How to Resize Images\n",
        "It is important to be able to resize images before modeling. Sometimes it is desirable to\n",
        "thumbnail all images to have the same width or height. This can be achieved with Pillow using\n",
        "the thumbnail() function. The function takes a tuple with the height and width, and the image\n",
        "will be resized so that the height and width of the image are equal or smaller than the specified\n",
        "shape.\n",
        "For example, the test photograph we have been working with has the width and height of\n",
        "(640, 360). We can resize it to (100, 100), in which case the largest dimension, in this case, the\n",
        "width, will be reduced to 100, and the height will be scaled in order to retain the aspect ratio of\n",
        "the image. The example below will load the photograph and create a smaller thumbnail with a\n",
        "width and height of 100 pixels."
      ]
    },
    {
      "cell_type": "markdown",
      "metadata": {},
      "source": [
        " \n",
        "Running the example first loads the photograph and reports the width and height. The\n",
        "image is then resized. In this case, the width is reduced to 100 pixels and the height is reduced\n",
        "to 56 pixels, maintaining the aspect ratio of the original image"
      ]
    },
    {
      "cell_type": "code",
      "metadata": {},
      "source": [
        "# create a thumbnail of an image\n",
        "from PIL import Image\n",
        "from IPython.display import display # to display images\n",
        "\n",
        "# load the image\n",
        "image = Image.open('opera_house.jpg')\n",
        "# report the size of the image\n",
        "print(image.size)\n",
        "# create a thumbnail and preserve aspect ratio\n",
        "image.thumbnail((100,100))\n",
        "# report the size of the modified image\n",
        "print(image.size)\n",
        "# show the image\n",
        "# image.show()\n",
        "display(image)"
      ],
      "outputs": [],
      "execution_count": null
    }
  ],
  "metadata": {
    "anaconda-cloud": {},
    "kernelspec": {
      "display_name": "Python 3",
      "language": "python",
      "name": "python3"
    },
    "language_info": {
      "codemirror_mode": {
        "name": "ipython",
        "version": 3
      },
      "file_extension": ".py",
      "mimetype": "text/x-python",
      "name": "python",
      "nbconvert_exporter": "python",
      "pygments_lexer": "ipython3",
      "version": "3.6.1"
    }
  },
  "nbformat": 4,
  "nbformat_minor": 1
}