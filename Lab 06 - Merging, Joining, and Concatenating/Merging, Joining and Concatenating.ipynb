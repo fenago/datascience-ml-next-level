{
 "cells": [
  {
   "cell_type": "markdown",
   "metadata": {},
   "source": [
    "## 10.1 Introducing the Datasets"
   ]
  },
  {
   "cell_type": "code",
   "execution_count": null,
   "metadata": {},
   "outputs": [],
   "source": [
    "import pandas as pd"
   ]
  },
  {
   "cell_type": "code",
   "execution_count": null,
   "metadata": {},
   "outputs": [],
   "source": [
    "pd.read_csv(\"meetup/members1.csv\").head()"
   ]
  },
  {
   "cell_type": "code",
   "execution_count": null,
   "metadata": {},
   "outputs": [],
   "source": [
    "pd.read_csv(\"meetup/members2.csv\").head()"
   ]
  },
  {
   "cell_type": "code",
   "execution_count": null,
   "metadata": {},
   "outputs": [],
   "source": [
    "members1 = pd.read_csv(\"meetup/members1.csv\")\n",
    "members2 = pd.read_csv(\"meetup/members2.csv\")"
   ]
  },
  {
   "cell_type": "code",
   "execution_count": null,
   "metadata": {},
   "outputs": [],
   "source": [
    "categories = pd.read_csv(\"meetup/categories.csv\")\n",
    "categories.head()"
   ]
  },
  {
   "cell_type": "code",
   "execution_count": null,
   "metadata": {},
   "outputs": [],
   "source": [
    "cities = pd.read_csv(\"meetup/cities.csv\")\n",
    "cities.head()"
   ]
  },
  {
   "cell_type": "code",
   "execution_count": null,
   "metadata": {},
   "outputs": [],
   "source": [
    "groups = pd.read_csv(\"meetup/groups.csv\")\n",
    "groups.head()"
   ]
  },
  {
   "cell_type": "code",
   "execution_count": null,
   "metadata": {},
   "outputs": [],
   "source": [
    "events1 = pd.read_csv(\"meetup/events1.csv\")\n",
    "events1.head()"
   ]
  },
  {
   "cell_type": "code",
   "execution_count": null,
   "metadata": {},
   "outputs": [],
   "source": [
    "events2 = pd.read_csv(\"meetup/events2.csv\")\n",
    "events2.head()"
   ]
  },
  {
   "cell_type": "markdown",
   "metadata": {},
   "source": [
    "## 10.2 Concatenating the Datasets"
   ]
  },
  {
   "cell_type": "code",
   "execution_count": null,
   "metadata": {},
   "outputs": [],
   "source": [
    "pd.concat(objs = [members1, members2])"
   ]
  },
  {
   "cell_type": "code",
   "execution_count": null,
   "metadata": {},
   "outputs": [],
   "source": [
    "len(members1)"
   ]
  },
  {
   "cell_type": "code",
   "execution_count": null,
   "metadata": {},
   "outputs": [],
   "source": [
    "len(members2)"
   ]
  },
  {
   "cell_type": "code",
   "execution_count": null,
   "metadata": {},
   "outputs": [],
   "source": [
    "pd.concat(objs = [members1, members2], ignore_index = True)"
   ]
  },
  {
   "cell_type": "code",
   "execution_count": null,
   "metadata": {},
   "outputs": [],
   "source": [
    "pd.concat(objs = [members1, members2], keys = [\"A\", \"B\"])"
   ]
  },
  {
   "cell_type": "markdown",
   "metadata": {},
   "source": [
    "### 10.2.1 Missing Values in Merged DataFrames"
   ]
  },
  {
   "cell_type": "code",
   "execution_count": null,
   "metadata": {},
   "outputs": [],
   "source": [
    "data_A = [\n",
    "    [\"Marie Curie\", \"Svante Arrhenius\"],\n",
    "    [\"Lord Rayleigh\", \"William Ramsay\"]\n",
    "]\n",
    "\n",
    "nobel_winners_A = pd.DataFrame(\n",
    "    data = data_A,\n",
    "    columns = [\"Physics\", \"Chemistry\"],\n",
    "    index = [1903, 1904]\n",
    ")\n",
    "\n",
    "nobel_winners_A"
   ]
  },
  {
   "cell_type": "code",
   "execution_count": null,
   "metadata": {},
   "outputs": [],
   "source": [
    "data_B = [\n",
    "    [\"William Ramsay\", \"Ivan Pavlov\"],\n",
    "    [\"Adolf van Baeyer\", \"Robert Koch\"]\n",
    "]\n",
    "\n",
    "nobel_winners_B = pd.DataFrame(\n",
    "    data = data_B,\n",
    "    columns = [\"Chemistry\", \"Medicine\"],\n",
    "    index = [1904, 1905]\n",
    ")\n",
    "\n",
    "nobel_winners_B"
   ]
  },
  {
   "cell_type": "code",
   "execution_count": null,
   "metadata": {},
   "outputs": [],
   "source": [
    "pd.concat(objs = [nobel_winners_A, nobel_winners_B])"
   ]
  },
  {
   "cell_type": "code",
   "execution_count": null,
   "metadata": {},
   "outputs": [],
   "source": [
    "# The two lines below are equivalent\n",
    "pd.concat(\n",
    "    objs = [nobel_winners_A, nobel_winners_B],\n",
    "    axis = 1\n",
    ")\n",
    "\n",
    "pd.concat(\n",
    "    objs = [nobel_winners_A, nobel_winners_B],\n",
    "    axis = \"columns\"\n",
    ")"
   ]
  },
  {
   "cell_type": "code",
   "execution_count": null,
   "metadata": {},
   "outputs": [],
   "source": [
    "data_C = [\n",
    "    [\"Frederic Mistral\", \"Institut de Droit International\"],\n",
    "    [\"Henryk Sienkiewicz\", \"Bertha von Suttner\"]\n",
    "]\n",
    "\n",
    "nobel_winners_C = pd.DataFrame(\n",
    "    data = data_C,\n",
    "    columns = [\"Literature\", \"Peace\"],\n",
    "    index = [1904, 1905]\n",
    ")\n",
    "\n",
    "nobel_winners_C"
   ]
  },
  {
   "cell_type": "code",
   "execution_count": null,
   "metadata": {},
   "outputs": [],
   "source": [
    "nobel_winners_A"
   ]
  },
  {
   "cell_type": "code",
   "execution_count": null,
   "metadata": {},
   "outputs": [],
   "source": [
    "pd.concat(objs = [nobel_winners_A, nobel_winners_C])"
   ]
  },
  {
   "cell_type": "markdown",
   "metadata": {},
   "source": [
    "## 10.3 Inner Joins"
   ]
  },
  {
   "cell_type": "code",
   "execution_count": null,
   "metadata": {},
   "outputs": [],
   "source": [
    "events1.tail(3)"
   ]
  },
  {
   "cell_type": "code",
   "execution_count": null,
   "metadata": {},
   "outputs": [],
   "source": [
    "events2.tail(3)"
   ]
  },
  {
   "cell_type": "code",
   "execution_count": null,
   "metadata": {},
   "outputs": [],
   "source": [
    "events1.merge(\n",
    "    right = events2, how = \"inner\", on = \"group_id\"\n",
    ").head()"
   ]
  },
  {
   "cell_type": "code",
   "execution_count": null,
   "metadata": {},
   "outputs": [],
   "source": [
    "events1[events1[\"group_id\"] == 5817262]"
   ]
  },
  {
   "cell_type": "code",
   "execution_count": null,
   "metadata": {},
   "outputs": [],
   "source": [
    "events2[events2[\"group_id\"] == 5817262]"
   ]
  },
  {
   "cell_type": "code",
   "execution_count": null,
   "metadata": {},
   "outputs": [],
   "source": [
    "events1.merge(\n",
    "    right = events2, \n",
    "    how = \"inner\",\n",
    "    on = \"group_id\",\n",
    "    suffixes = [\"_M1\", \" _M2\"]\n",
    ").head()"
   ]
  },
  {
   "cell_type": "code",
   "execution_count": null,
   "metadata": {},
   "outputs": [],
   "source": [
    "events1.merge(\n",
    "    right = events2,\n",
    "    how = \"inner\",\n",
    "    on = [\"group_id\", \"event_name\"],\n",
    "    suffixes = [\" Month 1\", \" Month 2\"]\n",
    ").head()"
   ]
  },
  {
   "cell_type": "markdown",
   "metadata": {},
   "source": [
    "## 10.4 Outer Joins"
   ]
  },
  {
   "cell_type": "code",
   "execution_count": null,
   "metadata": {},
   "outputs": [],
   "source": [
    "events1.merge(\n",
    "    right = events2, how = \"outer\", on = \"group_id\"\n",
    ").head()"
   ]
  },
  {
   "cell_type": "code",
   "execution_count": null,
   "metadata": {},
   "outputs": [],
   "source": [
    "events1.merge(\n",
    "    right = events2, how = \"outer\", on = \"group_id\"\n",
    ").tail()"
   ]
  },
  {
   "cell_type": "code",
   "execution_count": null,
   "metadata": {},
   "outputs": [],
   "source": [
    "events1.merge(\n",
    "    right = events2, how = \"outer\", on = \"group_id\"\n",
    ").iloc[8:13]"
   ]
  },
  {
   "cell_type": "code",
   "execution_count": null,
   "metadata": {},
   "outputs": [],
   "source": [
    "events1.merge(\n",
    "    right = events2,\n",
    "    how = \"outer\", \n",
    "    on = \"group_id\", \n",
    "    indicator = True\n",
    ")"
   ]
  },
  {
   "cell_type": "code",
   "execution_count": null,
   "metadata": {},
   "outputs": [],
   "source": [
    "outer_join = events1.merge(\n",
    "    right = events2,\n",
    "    how = \"outer\",\n",
    "    on = \"group_id\",\n",
    "    indicator = True\n",
    ")\n",
    "\n",
    "in_left_only = outer_join[\"_merge\"] == \"left_only\"\n",
    "\n",
    "outer_join[in_left_only].head()"
   ]
  },
  {
   "cell_type": "markdown",
   "metadata": {},
   "source": [
    "## 10.5 Left and Right Joins"
   ]
  },
  {
   "cell_type": "code",
   "execution_count": null,
   "metadata": {},
   "outputs": [],
   "source": [
    "groups.head(1)"
   ]
  },
  {
   "cell_type": "code",
   "execution_count": null,
   "metadata": {},
   "outputs": [],
   "source": [
    "groups.merge(\n",
    "    right = categories, how = \"left\", on = \"category_id\"\n",
    ").head()"
   ]
  },
  {
   "cell_type": "markdown",
   "metadata": {},
   "source": [
    "## 10.6 The left_on and right_on Parameters"
   ]
  },
  {
   "cell_type": "code",
   "execution_count": null,
   "metadata": {},
   "outputs": [],
   "source": [
    "cities.head(2)"
   ]
  },
  {
   "cell_type": "code",
   "execution_count": null,
   "metadata": {},
   "outputs": [],
   "source": [
    "cities.rename(\n",
    "    columns = { \"city_id\": \"city identifier\" },\n",
    "    inplace = True\n",
    ")\n",
    "\n",
    "cities.head(2)"
   ]
  },
  {
   "cell_type": "code",
   "execution_count": null,
   "metadata": {},
   "outputs": [],
   "source": [
    "groups.merge(\n",
    "    cities,\n",
    "    how = \"left\",\n",
    "    left_on = \"city_id\",\n",
    "    right_on = \"city identifier\"\n",
    ").head()"
   ]
  },
  {
   "cell_type": "markdown",
   "metadata": {},
   "source": [
    "## 10.7 Merging on Index Labels"
   ]
  },
  {
   "cell_type": "code",
   "execution_count": null,
   "metadata": {},
   "outputs": [],
   "source": [
    "members1.set_index(keys = \"member_id\", inplace = True)\n",
    "members1.head(2)"
   ]
  },
  {
   "cell_type": "code",
   "execution_count": null,
   "metadata": {},
   "outputs": [],
   "source": [
    "groups.head(2)"
   ]
  },
  {
   "cell_type": "code",
   "execution_count": null,
   "metadata": {},
   "outputs": [],
   "source": [
    "groups.merge(\n",
    "    right = members1,\n",
    "    how = \"left\",\n",
    "    left_on = \"organizer_id\",\n",
    "    right_index = True\n",
    ").head()"
   ]
  },
  {
   "cell_type": "markdown",
   "metadata": {},
   "source": [
    "## 10.8 Coding Challenge"
   ]
  },
  {
   "cell_type": "code",
   "execution_count": null,
   "metadata": {},
   "outputs": [],
   "source": [
    "pd.read_csv(\"restaurant/week_1_sales.csv\").head()"
   ]
  },
  {
   "cell_type": "code",
   "execution_count": null,
   "metadata": {},
   "outputs": [],
   "source": [
    "week1 = pd.read_csv(\"restaurant/week_1_sales.csv\")\n",
    "week2 = pd.read_csv(\"restaurant/week_2_sales.csv\")"
   ]
  },
  {
   "cell_type": "code",
   "execution_count": null,
   "metadata": {},
   "outputs": [],
   "source": [
    "pd.read_csv(\"restaurant/customers.csv\", index_col = \"ID\").head()"
   ]
  },
  {
   "cell_type": "code",
   "execution_count": null,
   "metadata": {},
   "outputs": [],
   "source": [
    "customers = pd.read_csv(\n",
    "    \"restaurant/customers.csv\", index_col = \"ID\"\n",
    ")"
   ]
  },
  {
   "cell_type": "code",
   "execution_count": null,
   "metadata": {},
   "outputs": [],
   "source": [
    "pd.read_csv(\"restaurant/foods.csv\", index_col = \"Food ID\")"
   ]
  },
  {
   "cell_type": "code",
   "execution_count": null,
   "metadata": {},
   "outputs": [],
   "source": [
    "foods = pd.read_csv(\"restaurant/foods.csv\", index_col = \"Food ID\")"
   ]
  },
  {
   "cell_type": "code",
   "execution_count": null,
   "metadata": {},
   "outputs": [],
   "source": [
    "pd.concat(objs = [week1, week2], keys = [\"Week 1\", \"Week 2\"])"
   ]
  },
  {
   "cell_type": "code",
   "execution_count": null,
   "metadata": {},
   "outputs": [],
   "source": [
    "week1.merge(\n",
    "    right = week2, how = \"inner\", on = \"Customer ID\"\n",
    ").head()"
   ]
  },
  {
   "cell_type": "code",
   "execution_count": null,
   "metadata": {},
   "outputs": [],
   "source": [
    "week1.merge(\n",
    "    right = week2, how = \"inner\", on = \"Customer ID\"\n",
    ").drop_duplicates(subset = [\"Customer ID\"]).head()"
   ]
  },
  {
   "cell_type": "code",
   "execution_count": null,
   "metadata": {},
   "outputs": [],
   "source": [
    "week1.merge(\n",
    "    right = week2,\n",
    "    how = \"inner\",\n",
    "    on = [\"Customer ID\", \"Food ID\"]\n",
    ")"
   ]
  },
  {
   "cell_type": "code",
   "execution_count": null,
   "metadata": {},
   "outputs": [],
   "source": [
    "week1.merge(\n",
    "    right = week2,\n",
    "    how = \"outer\",\n",
    "    on = \"Customer ID\",\n",
    "    indicator = True\n",
    ").head()"
   ]
  },
  {
   "cell_type": "code",
   "execution_count": null,
   "metadata": {},
   "outputs": [],
   "source": [
    "week1.merge(\n",
    "    right = customers,\n",
    "    how = \"left\",\n",
    "    left_on = \"Customer ID\",\n",
    "    right_index = True\n",
    ").head()"
   ]
  },
  {
   "cell_type": "markdown",
   "metadata": {},
   "source": [
    "## 10.9 Summary"
   ]
  }
 ],
 "metadata": {
  "kernelspec": {
   "display_name": "Python 3",
   "language": "python",
   "name": "python3"
  },
  "language_info": {
   "codemirror_mode": {
    "name": "ipython",
    "version": 3
   },
   "file_extension": ".py",
   "mimetype": "text/x-python",
   "name": "python",
   "nbconvert_exporter": "python",
   "pygments_lexer": "ipython3",
   "version": "3.8.6"
  }
 },
 "nbformat": 4,
 "nbformat_minor": 4
}
