{
 "cells": [
  {
   "cell_type": "code",
   "execution_count": null,
   "id": "23a063b3",
   "metadata": {
    "lines_to_next_cell": 0
   },
   "outputs": [],
   "source": []
  },
  {
   "cell_type": "code",
   "execution_count": null,
   "id": "fa739723",
   "metadata": {},
   "outputs": [],
   "source": [
    "\"\"\"\n",
    "Numpy arrays\n",
    "\"\"\""
   ]
  },
  {
   "cell_type": "code",
   "execution_count": null,
   "id": "f3a1c6b8",
   "metadata": {},
   "outputs": [],
   "source": [
    "import numpy as np"
   ]
  },
  {
   "cell_type": "code",
   "execution_count": null,
   "id": "76c824a0",
   "metadata": {},
   "outputs": [],
   "source": [
    "p = np.array([48.858598, 2.294495])\n",
    "print(p.ndim)\n",
    "print(p.shape)\n",
    "print(p.dtype)"
   ]
  },
  {
   "cell_type": "code",
   "execution_count": null,
   "id": "2998ba9c",
   "metadata": {},
   "outputs": [],
   "source": [
    "# Data type\n",
    "a = np.array([1, 2, 3, 4])\n",
    "print(a.dtype)"
   ]
  },
  {
   "cell_type": "code",
   "execution_count": null,
   "id": "3f0d1c5b",
   "metadata": {},
   "outputs": [],
   "source": [
    "float_b = a.astype(np.float64)\n",
    "print(float_b.dtype)"
   ]
  },
  {
   "cell_type": "code",
   "execution_count": null,
   "id": "81ef7a19",
   "metadata": {},
   "outputs": [],
   "source": [
    "# Array creation\n",
    "a = np.arange(7)\n",
    "print(a)\n",
    "print(a[1], a[4], a[-1])"
   ]
  },
  {
   "cell_type": "code",
   "execution_count": null,
   "id": "17fb5d14",
   "metadata": {},
   "outputs": [],
   "source": [
    "a = np.array([[1, 2, 3], [4, 5, 6], [7, 8, 9]])\n",
    "print(a[0, 2])"
   ]
  },
  {
   "cell_type": "code",
   "execution_count": null,
   "id": "80bfa076",
   "metadata": {},
   "outputs": [],
   "source": [
    "a[0, 2] = 10\n",
    "print(a)"
   ]
  },
  {
   "cell_type": "code",
   "execution_count": null,
   "id": "77aa07ea",
   "metadata": {},
   "outputs": [],
   "source": [
    "b = a[2]\n",
    "print(b)"
   ]
  },
  {
   "cell_type": "code",
   "execution_count": null,
   "id": "e7304645",
   "metadata": {},
   "outputs": [],
   "source": [
    "c = a[:2]\n",
    "print(c)"
   ]
  },
  {
   "cell_type": "code",
   "execution_count": null,
   "id": "622cd111",
   "metadata": {},
   "outputs": [],
   "source": [
    "b[-1] = 11\n",
    "print(a)"
   ]
  },
  {
   "cell_type": "code",
   "execution_count": null,
   "id": "9e0ffd1b",
   "metadata": {},
   "outputs": [],
   "source": [
    "# Fancy indexing\n",
    "a = np.array([3, 5, 1, 10])\n",
    "b = (a % 5 == 0)\n",
    "print(b)"
   ]
  },
  {
   "cell_type": "code",
   "execution_count": null,
   "id": "aa8854d4",
   "metadata": {},
   "outputs": [],
   "source": [
    "c = np.array([[0, 1], [2, 3], [4, 5], [6, 7]])\n",
    "print(c[b])"
   ]
  },
  {
   "cell_type": "code",
   "execution_count": null,
   "id": "ba03c610",
   "metadata": {},
   "outputs": [],
   "source": [
    "a = np.array([[1, 2, 3, 4], [5, 6, 7, 8], [9, 10, 11, 12], [13, 14, 15, 16]])\n",
    "print(a[[2, 1]])\n",
    "print(a[[-2, -1]])\n",
    "print(a[[2, 3], [0, 1]])"
   ]
  },
  {
   "cell_type": "code",
   "execution_count": null,
   "id": "d1331aaa",
   "metadata": {},
   "outputs": [],
   "source": [
    "# Numerical operations on arrays\n",
    "a = np.ones(4)\n",
    "print(a * 2)\n",
    "print(a + 3)"
   ]
  },
  {
   "cell_type": "code",
   "execution_count": null,
   "id": "169d960b",
   "metadata": {},
   "outputs": [],
   "source": [
    "a = np.ones([2, 4])\n",
    "print(a * a)\n",
    "print(a + a)"
   ]
  },
  {
   "cell_type": "code",
   "execution_count": null,
   "id": "2df3e9c5",
   "metadata": {},
   "outputs": [],
   "source": [
    "a = np.array([1, 2, 3, 4])\n",
    "b = np.array([1, 1, 5, 3])"
   ]
  },
  {
   "cell_type": "code",
   "execution_count": null,
   "id": "0dcd6129",
   "metadata": {},
   "outputs": [],
   "source": [
    "print(a == b)\n",
    "print(np.array_equal(a, b))"
   ]
  },
  {
   "cell_type": "code",
   "execution_count": null,
   "id": "19516f4a",
   "metadata": {},
   "outputs": [],
   "source": [
    "c = np.array([1, 0])\n",
    "d = np.array([1, 1])\n",
    "print(np.logical_and(c, d))"
   ]
  },
  {
   "cell_type": "code",
   "execution_count": null,
   "id": "029055a8",
   "metadata": {},
   "outputs": [],
   "source": [
    "# Array functions\n",
    "a = np.array([[0, 5, 10], [20, 25, 30]])\n",
    "print(a.reshape(3, 2))\n",
    "print(a.T)"
   ]
  },
  {
   "cell_type": "code",
   "execution_count": null,
   "id": "c5bb781a",
   "metadata": {},
   "outputs": [],
   "source": [
    "a = np.array([[[0, 1, 2], [3, 4, 5]], [[6, 7, 8], [9, 10, 11]]])\n",
    "print(a.swapaxes(1, 2))"
   ]
  },
  {
   "cell_type": "code",
   "execution_count": null,
   "id": "b8b2048c",
   "metadata": {},
   "outputs": [],
   "source": [
    "a = np.array([[1, 2, 3],[4,5,6]])\n",
    "print(np.dot(a.T, a))"
   ]
  },
  {
   "cell_type": "code",
   "execution_count": null,
   "id": "8ef0a546",
   "metadata": {},
   "outputs": [],
   "source": [
    "a = np.array ([[6, 34, 1, 6], [0, 5, 2, -1]])\n",
    "print(np.sort(a))\n",
    "print(np.sort(a, axis=0))"
   ]
  },
  {
   "cell_type": "code",
   "execution_count": null,
   "id": "84b6038f",
   "metadata": {},
   "outputs": [],
   "source": [
    "b = np.argsort(a)\n",
    "print(b)\n",
    "print(a[0][b[0]])\n",
    "print(np.argmax(a))"
   ]
  }
 ],
 "metadata": {
  "jupytext": {
   "cell_metadata_filter": "-all",
   "encoding": "# coding: utf-8",
   "executable": "/usr/bin/env python",
   "main_language": "python",
   "notebook_metadata_filter": "-all"
  }
 },
 "nbformat": 4,
 "nbformat_minor": 5
}
