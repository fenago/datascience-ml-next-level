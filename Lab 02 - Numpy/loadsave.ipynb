{
 "cells": [
  {
   "cell_type": "code",
   "execution_count": null,
   "id": "f0b86121",
   "metadata": {
    "lines_to_next_cell": 0
   },
   "outputs": [],
   "source": [
    "import numpy as np"
   ]
  },
  {
   "cell_type": "code",
   "execution_count": null,
   "id": "19fa4788",
   "metadata": {},
   "outputs": [],
   "source": [
    "# Saving\n",
    "a = np.array([[0, 1, 2], [3, 4, 5]])\n",
    "np.save('test1.npy', a)"
   ]
  },
  {
   "cell_type": "code",
   "execution_count": null,
   "id": "c5edc7b3",
   "metadata": {},
   "outputs": [],
   "source": [
    "a = np.arange(4)\n",
    "b = np.arange(7)"
   ]
  },
  {
   "cell_type": "code",
   "execution_count": null,
   "id": "e3959318",
   "metadata": {},
   "outputs": [],
   "source": [
    "np.savez('test2.npz', arr0=a, arr1=b)"
   ]
  },
  {
   "cell_type": "code",
   "execution_count": null,
   "id": "a4607e0d",
   "metadata": {},
   "outputs": [],
   "source": [
    "# Loading\n",
    "dic = np.load('test2.npz')\n",
    "print(dic['arr0'])"
   ]
  },
  {
   "cell_type": "code",
   "execution_count": null,
   "id": "c1f16773",
   "metadata": {},
   "outputs": [],
   "source": [
    "x = np.arange(4)\n",
    "np.savetxt('test3.out', x, delimiter=',')"
   ]
  },
  {
   "cell_type": "code",
   "execution_count": null,
   "id": "a1bbeb42",
   "metadata": {
    "lines_to_next_cell": 2
   },
   "outputs": [],
   "source": [
    "print(np.load('test1.npy'))\n",
    "print(np.loadtxt('test3.out', delimiter=','))"
   ]
  }
 ],
 "metadata": {
  "jupytext": {
   "cell_metadata_filter": "-all",
   "encoding": "# coding: utf-8",
   "executable": "/usr/bin/env python",
   "main_language": "python",
   "notebook_metadata_filter": "-all"
  },
  "kernelspec": {
   "display_name": "Python 3 (ipykernel)",
   "language": "python",
   "name": "python3"
  },
  "language_info": {
   "codemirror_mode": {
    "name": "ipython",
    "version": 3
   },
   "file_extension": ".py",
   "mimetype": "text/x-python",
   "name": "python",
   "nbconvert_exporter": "python",
   "pygments_lexer": "ipython3",
   "version": "3.9.7"
  }
 },
 "nbformat": 4,
 "nbformat_minor": 5
}
