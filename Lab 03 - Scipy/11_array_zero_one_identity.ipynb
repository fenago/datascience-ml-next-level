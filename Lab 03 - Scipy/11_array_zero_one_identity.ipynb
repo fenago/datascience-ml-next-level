{
 "cells": [
  {
   "cell_type": "code",
   "execution_count": null,
   "id": "900bc9a3",
   "metadata": {},
   "outputs": [],
   "source": []
  },
  {
   "cell_type": "code",
   "execution_count": null,
   "id": "35c1e6a4",
   "metadata": {},
   "outputs": [],
   "source": [
    "import numpy as np\n",
    "a=np.zeros(10)                #  array with 10 zeros\n",
    "print a"
   ]
  },
  {
   "cell_type": "code",
   "execution_count": null,
   "id": "69d284d4",
   "metadata": {},
   "outputs": [],
   "source": [
    "b=np.zeros((3,2),dtype=float) #  3 by 2 with zeros\n",
    "print b"
   ]
  },
  {
   "cell_type": "code",
   "execution_count": null,
   "id": "854e4b3b",
   "metadata": {},
   "outputs": [],
   "source": [
    "c=np.ones((4,3),float)        #  4 by 3 with all ones\n",
    "print c"
   ]
  },
  {
   "cell_type": "code",
   "execution_count": null,
   "id": "09a94b90",
   "metadata": {},
   "outputs": [],
   "source": [
    "d=np.array(range(10),float)   #  0,1, 2,3 .. up to 9\n",
    "print d"
   ]
  },
  {
   "cell_type": "code",
   "execution_count": null,
   "id": "764fc152",
   "metadata": {},
   "outputs": [],
   "source": [
    "e1=np.identity(4)             #  identity 4 by 4 matrix\n",
    "print e1"
   ]
  },
  {
   "cell_type": "code",
   "execution_count": null,
   "id": "c70df9a0",
   "metadata": {},
   "outputs": [],
   "source": [
    "e2=np.eye(4)                  #  same as above\n",
    "print e2"
   ]
  },
  {
   "cell_type": "code",
   "execution_count": null,
   "id": "b4e9033b",
   "metadata": {},
   "outputs": [],
   "source": [
    "e3=np.eye(4,k=1)              #  1 start from k  \n",
    "print e3"
   ]
  },
  {
   "cell_type": "code",
   "execution_count": null,
   "id": "1b7e4c8f",
   "metadata": {},
   "outputs": [],
   "source": [
    "f=np.arange(1,20,3,float)     #  from 1 to 19 interval 3\n",
    "print f"
   ]
  },
  {
   "cell_type": "code",
   "execution_count": null,
   "id": "c8f668a9",
   "metadata": {},
   "outputs": [],
   "source": [
    "g=np.array([[2,2,2],[3,3,3]]) #  2 by 3\n",
    "print g"
   ]
  },
  {
   "cell_type": "code",
   "execution_count": null,
   "id": "0e7af043",
   "metadata": {},
   "outputs": [],
   "source": [
    "h=np.zeros_like(g)            #  all zeros\n",
    "print h"
   ]
  },
  {
   "cell_type": "code",
   "execution_count": null,
   "id": "1cb093e6",
   "metadata": {},
   "outputs": [],
   "source": [
    "i=np.ones_like(g)            #  all ones\n",
    "print i"
   ]
  },
  {
   "cell_type": "code",
   "execution_count": null,
   "id": "ab040e2c",
   "metadata": {},
   "outputs": [],
   "source": []
  }
 ],
 "metadata": {
  "jupytext": {
   "cell_metadata_filter": "-all",
   "main_language": "python",
   "notebook_metadata_filter": "-all"
  }
 },
 "nbformat": 4,
 "nbformat_minor": 5
}
