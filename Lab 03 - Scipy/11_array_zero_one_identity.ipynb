{
 "cells": [
  {
   "cell_type": "code",
   "execution_count": null,
   "id": "4ea961f7",
   "metadata": {
    "lines_to_next_cell": 2
   },
   "outputs": [],
   "source": [
    "\"\"\"\n",
    "  Name     : 4375OS_06_11_array_zeros_ones_identity.py\n",
    "  Book     : Python for Finance\n",
    "  Publisher: Packt Publishing Ltd. \n",
    "  Author   : Yuxing Yan\n",
    "  Date     : 12/26/2013\n",
    "  email    : yany@canisius.edu\n",
    "             paulyxy@hotmail.com\n",
    "\"\"\""
   ]
  },
  {
   "cell_type": "code",
   "execution_count": null,
   "id": "5b1857d4",
   "metadata": {},
   "outputs": [],
   "source": [
    "import numpy as np\n",
    "a=np.zeros(10)                #  array with 10 zeros\n",
    "print a"
   ]
  },
  {
   "cell_type": "code",
   "execution_count": null,
   "id": "09350cd3",
   "metadata": {},
   "outputs": [],
   "source": [
    "b=np.zeros((3,2),dtype=float) #  3 by 2 with zeros\n",
    "print b"
   ]
  },
  {
   "cell_type": "code",
   "execution_count": null,
   "id": "82bb9d1c",
   "metadata": {},
   "outputs": [],
   "source": [
    "c=np.ones((4,3),float)        #  4 by 3 with all ones\n",
    "print c"
   ]
  },
  {
   "cell_type": "code",
   "execution_count": null,
   "id": "a61046ab",
   "metadata": {},
   "outputs": [],
   "source": [
    "d=np.array(range(10),float)   #  0,1, 2,3 .. up to 9\n",
    "print d"
   ]
  },
  {
   "cell_type": "code",
   "execution_count": null,
   "id": "dda044fc",
   "metadata": {},
   "outputs": [],
   "source": [
    "e1=np.identity(4)             #  identity 4 by 4 matrix\n",
    "print e1"
   ]
  },
  {
   "cell_type": "code",
   "execution_count": null,
   "id": "2349a53c",
   "metadata": {},
   "outputs": [],
   "source": [
    "e2=np.eye(4)                  #  same as above\n",
    "print e2"
   ]
  },
  {
   "cell_type": "code",
   "execution_count": null,
   "id": "b365ad4f",
   "metadata": {},
   "outputs": [],
   "source": [
    "e3=np.eye(4,k=1)              #  1 start from k  \n",
    "print e3"
   ]
  },
  {
   "cell_type": "code",
   "execution_count": null,
   "id": "3f62af4e",
   "metadata": {},
   "outputs": [],
   "source": [
    "f=np.arange(1,20,3,float)     #  from 1 to 19 interval 3\n",
    "print f"
   ]
  },
  {
   "cell_type": "code",
   "execution_count": null,
   "id": "d3f32f6e",
   "metadata": {},
   "outputs": [],
   "source": [
    "g=np.array([[2,2,2],[3,3,3]]) #  2 by 3\n",
    "print g"
   ]
  },
  {
   "cell_type": "code",
   "execution_count": null,
   "id": "cbcb8f52",
   "metadata": {},
   "outputs": [],
   "source": [
    "h=np.zeros_like(g)            #  all zeros\n",
    "print h"
   ]
  },
  {
   "cell_type": "code",
   "execution_count": null,
   "id": "ae8dd0a3",
   "metadata": {},
   "outputs": [],
   "source": [
    "i=np.ones_like(g)            #  all ones\n",
    "print i"
   ]
  },
  {
   "cell_type": "code",
   "execution_count": null,
   "id": "1ad59273",
   "metadata": {},
   "outputs": [],
   "source": []
  }
 ],
 "metadata": {
  "jupytext": {
   "cell_metadata_filter": "-all",
   "main_language": "python",
   "notebook_metadata_filter": "-all"
  }
 },
 "nbformat": 4,
 "nbformat_minor": 5
}
