{
 "cells": [
  {
   "cell_type": "code",
   "execution_count": null,
   "id": "13e13a61",
   "metadata": {},
   "outputs": [],
   "source": [
    "\"\"\"\n",
    "  Name     : 4375OS_06_22_ttest.py\n",
    "  Book     : Python for Finance\n",
    "  Publisher: Packt Publishing Ltd. \n",
    "  Author   : Yuxing Yan\n",
    "  Date     : 12/26/2013\n",
    "  email    : yany@canisius.edu\n",
    "             paulyxy@hotmail.com\n",
    "\"\"\""
   ]
  },
  {
   "cell_type": "code",
   "execution_count": null,
   "id": "b297c43e",
   "metadata": {},
   "outputs": [],
   "source": [
    "import numpy as np\n",
    "from scipy import stats\n",
    "np.random.seed(124)          # get the same random values\n",
    "x=np.random.normal(0,1,100)  # mean=0,std=1 \n",
    "skew=stats.skew(x)           # skewness is -0.2297 \n",
    "print stats.ttest_1samp(x,0) # if the mean is zero\n",
    "#(array(1.176), 0.24228)     # T-value and P-value"
   ]
  }
 ],
 "metadata": {
  "jupytext": {
   "cell_metadata_filter": "-all",
   "main_language": "python",
   "notebook_metadata_filter": "-all"
  }
 },
 "nbformat": 4,
 "nbformat_minor": 5
}
