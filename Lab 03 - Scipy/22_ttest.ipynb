{
 "cells": [
  {
   "cell_type": "code",
   "execution_count": null,
   "id": "df046f42",
   "metadata": {
    "lines_to_next_cell": 0
   },
   "outputs": [],
   "source": []
  },
  {
   "cell_type": "code",
   "execution_count": null,
   "id": "9a41b248",
   "metadata": {},
   "outputs": [],
   "source": [
    "import numpy as np\n",
    "from scipy import stats\n",
    "np.random.seed(124)          # get the same random values\n",
    "x=np.random.normal(0,1,100)  # mean=0,std=1 \n",
    "skew=stats.skew(x)           # skewness is -0.2297 \n",
    "print stats.ttest_1samp(x,0) # if the mean is zero\n",
    "#(array(1.176), 0.24228)     # T-value and P-value"
   ]
  }
 ],
 "metadata": {
  "jupytext": {
   "cell_metadata_filter": "-all",
   "main_language": "python",
   "notebook_metadata_filter": "-all"
  }
 },
 "nbformat": 4,
 "nbformat_minor": 5
}
