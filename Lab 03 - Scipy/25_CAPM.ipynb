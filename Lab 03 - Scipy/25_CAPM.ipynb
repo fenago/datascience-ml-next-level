{
 "cells": [
  {
   "cell_type": "code",
   "execution_count": null,
   "id": "8ba52e14",
   "metadata": {},
   "outputs": [],
   "source": [
    "\"\"\"\n",
    "  Name     : 4375OS_06_25_CAPM.py\n",
    "  Book     : Python for Finance\n",
    "  Publisher: Packt Publishing Ltd. \n",
    "  Author   : Yuxing Yan\n",
    "  Date     : 12/26/2013\n",
    "  email    : yany@canisius.edu\n",
    "             paulyxy@hotmail.com\n",
    "\"\"\""
   ]
  },
  {
   "cell_type": "code",
   "execution_count": null,
   "id": "cba12f5e",
   "metadata": {},
   "outputs": [],
   "source": [
    "from scipy import stats\n",
    "stock_ret = [0.065, 0.0265, -0.0593, -0.001,0.0346]\n",
    "mkt_ret  = [0.055, -0.09, -0.041,0.045,0.022]\n",
    "beta, alpha, r_value, p_value, std_err =stats.linregress(stock_ret,mkt_ret)"
   ]
  },
  {
   "cell_type": "code",
   "execution_count": null,
   "id": "92fe972e",
   "metadata": {
    "lines_to_next_cell": 2
   },
   "outputs": [],
   "source": [
    "print 'beta=',beta,'alpha=',alpha"
   ]
  }
 ],
 "metadata": {
  "jupytext": {
   "cell_metadata_filter": "-all",
   "main_language": "python",
   "notebook_metadata_filter": "-all"
  }
 },
 "nbformat": 4,
 "nbformat_minor": 5
}
