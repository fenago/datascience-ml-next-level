{
 "cells": [
  {
   "cell_type": "code",
   "execution_count": null,
   "id": "9a52bbd4",
   "metadata": {},
   "outputs": [],
   "source": [
    "\"\"\"\n",
    "  Name     : 4375OS_06_06_geomean.py\n",
    "  Book     : Python for Finance\n",
    "  Publisher: Packt Publishing Ltd. \n",
    "  Author   : Yuxing Yan\n",
    "  Date     : 12/26/2013\n",
    "  email    : yany@canisius.edu\n",
    "             paulyxy@hotmail.com\n",
    "\"\"\""
   ]
  },
  {
   "cell_type": "code",
   "execution_count": null,
   "id": "f42861f5",
   "metadata": {},
   "outputs": [],
   "source": [
    "import scipy as sp\n",
    "ret=sp.array([0.1,0.05,-0.02])\n",
    "arithmetric_mean=sp.mean(ret)  # arithmetic mean   \n",
    "print \"arithmatic mean=\", arithmetric_mean "
   ]
  },
  {
   "cell_type": "code",
   "execution_count": null,
   "id": "f1f13557",
   "metadata": {
    "lines_to_next_cell": 2
   },
   "outputs": [],
   "source": [
    "geomean=pow(sp.prod(ret+1),1./len(ret))-1 # geometric mean   \n",
    "print 'gemetric mean=',geomean"
   ]
  }
 ],
 "metadata": {
  "jupytext": {
   "cell_metadata_filter": "-all",
   "main_language": "python",
   "notebook_metadata_filter": "-all"
  }
 },
 "nbformat": 4,
 "nbformat_minor": 5
}
