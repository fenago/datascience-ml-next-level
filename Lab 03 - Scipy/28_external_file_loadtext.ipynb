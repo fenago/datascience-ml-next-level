{
 "cells": [
  {
   "cell_type": "code",
   "execution_count": null,
   "id": "4bffc821",
   "metadata": {},
   "outputs": [],
   "source": [
    "import numpy as ny\n",
    "x=ny.loadtxt(\"c:/temp/test.csv\",delimiter=',',skiprows=1)"
   ]
  }
 ],
 "metadata": {
  "jupytext": {
   "cell_metadata_filter": "-all",
   "main_language": "python",
   "notebook_metadata_filter": "-all"
  }
 },
 "nbformat": 4,
 "nbformat_minor": 5
}
