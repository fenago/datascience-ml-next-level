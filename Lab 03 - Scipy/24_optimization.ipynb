{
 "cells": [
  {
   "cell_type": "code",
   "execution_count": null,
   "id": "6e9019ed",
   "metadata": {
    "lines_to_next_cell": 2
   },
   "outputs": [],
   "source": [
    "\"\"\"\n",
    "  Name     : 4375OS_06_24_optimization.py\n",
    "  Book     : Python for Finance\n",
    "  Publisher: Packt Publishing Ltd. \n",
    "  Author   : Yuxing Yan\n",
    "  Date     : 12/26/2013\n",
    "  email    : yany@canisius.edu\n",
    "             paulyxy@hotmail.com\n",
    "\"\"\""
   ]
  },
  {
   "cell_type": "code",
   "execution_count": null,
   "id": "00a41fd6",
   "metadata": {
    "lines_to_next_cell": 1
   },
   "outputs": [],
   "source": [
    "import scipy.optimize as optimize \n",
    "def my_f(x):\n",
    "    return 3 + x**2"
   ]
  },
  {
   "cell_type": "code",
   "execution_count": null,
   "id": "504cd7a9",
   "metadata": {
    "lines_to_next_cell": 2
   },
   "outputs": [],
   "source": [
    "optimize.fmin(my_f,5)   # 5 is initial value"
   ]
  }
 ],
 "metadata": {
  "jupytext": {
   "cell_metadata_filter": "-all",
   "main_language": "python",
   "notebook_metadata_filter": "-all"
  }
 },
 "nbformat": 4,
 "nbformat_minor": 5
}
