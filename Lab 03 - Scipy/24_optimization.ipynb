{
 "cells": [
  {
   "cell_type": "code",
   "execution_count": null,
   "id": "c1080054",
   "metadata": {},
   "outputs": [],
   "source": []
  },
  {
   "cell_type": "code",
   "execution_count": null,
   "id": "5389a67f",
   "metadata": {
    "lines_to_next_cell": 1
   },
   "outputs": [],
   "source": [
    "import scipy.optimize as optimize \n",
    "def my_f(x):\n",
    "    return 3 + x**2"
   ]
  },
  {
   "cell_type": "code",
   "execution_count": null,
   "id": "7f919fbd",
   "metadata": {
    "lines_to_next_cell": 2
   },
   "outputs": [],
   "source": [
    "optimize.fmin(my_f,5)   # 5 is initial value"
   ]
  }
 ],
 "metadata": {
  "jupytext": {
   "cell_metadata_filter": "-all",
   "main_language": "python",
   "notebook_metadata_filter": "-all"
  }
 },
 "nbformat": 4,
 "nbformat_minor": 5
}
