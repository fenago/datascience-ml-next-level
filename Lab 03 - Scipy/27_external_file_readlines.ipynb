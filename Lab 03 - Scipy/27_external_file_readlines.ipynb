{
 "cells": [
  {
   "cell_type": "code",
   "execution_count": null,
   "id": "c43c57f7",
   "metadata": {},
   "outputs": [],
   "source": [
    "\"\"\"\n",
    "  Name     : 4375OS_06_27_external_file_readlines.py\n",
    "  Book     : Python for Finance\n",
    "  Publisher: Packt Publishing Ltd. \n",
    "  Author   : Yuxing Yan\n",
    "  Date     : 12/26/2013\n",
    "  email    : yany@canisius.edu\n",
    "             paulyxy@hotmail.com\n",
    "\"\"\""
   ]
  },
  {
   "cell_type": "code",
   "execution_count": null,
   "id": "7e5484db",
   "metadata": {
    "lines_to_next_cell": 2
   },
   "outputs": [],
   "source": [
    "f=open(\"c:/yan/ibm.csv\",\"r\")\n",
    "data=f.readlines()\n",
    "print type(data)"
   ]
  }
 ],
 "metadata": {
  "jupytext": {
   "cell_metadata_filter": "-all",
   "main_language": "python",
   "notebook_metadata_filter": "-all"
  }
 },
 "nbformat": 4,
 "nbformat_minor": 5
}
