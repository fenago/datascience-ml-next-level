{
 "cells": [
  {
   "cell_type": "code",
   "execution_count": null,
   "id": "a2fd3536",
   "metadata": {},
   "outputs": [],
   "source": [
    "\"\"\"\n",
    "  Name     : 4375OS_06_13_matrix_multiplication.py\n",
    "  Book     : Python for Finance\n",
    "  Publisher: Packt Publishing Ltd. \n",
    "  Author   : Yuxing Yan\n",
    "  Date     : 12/26/2013\n",
    "  email    : yany@canisius.edu\n",
    "             paulyxy@hotmail.com\n",
    "\"\"\""
   ]
  },
  {
   "cell_type": "code",
   "execution_count": null,
   "id": "bbfd6aa5",
   "metadata": {},
   "outputs": [],
   "source": [
    "import numpy as np"
   ]
  },
  {
   "cell_type": "code",
   "execution_count": null,
   "id": "171e8884",
   "metadata": {},
   "outputs": [],
   "source": [
    "x=np.array([[1,2,3],[4,5,6]],float)      # 2 by 3"
   ]
  },
  {
   "cell_type": "code",
   "execution_count": null,
   "id": "6b55fae1",
   "metadata": {},
   "outputs": [],
   "source": [
    "y=np.array([[1,2],[3,3],[4,5]],float)    # 3 by 2"
   ]
  },
  {
   "cell_type": "code",
   "execution_count": null,
   "id": "89411306",
   "metadata": {},
   "outputs": [],
   "source": [
    "xy=np.dot(x,y)                           # 2 by 2"
   ]
  },
  {
   "cell_type": "code",
   "execution_count": null,
   "id": "90e4bacb",
   "metadata": {},
   "outputs": [],
   "source": [
    "print x\n",
    "print y\n",
    "print xy"
   ]
  }
 ],
 "metadata": {
  "jupytext": {
   "cell_metadata_filter": "-all",
   "main_language": "python",
   "notebook_metadata_filter": "-all"
  }
 },
 "nbformat": 4,
 "nbformat_minor": 5
}
