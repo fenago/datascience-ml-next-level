{
 "cells": [
  {
   "cell_type": "code",
   "execution_count": null,
   "id": "845bd3eb",
   "metadata": {
    "lines_to_next_cell": 0
   },
   "outputs": [],
   "source": []
  },
  {
   "cell_type": "code",
   "execution_count": null,
   "id": "7e382753",
   "metadata": {},
   "outputs": [],
   "source": [
    "import numpy as np"
   ]
  },
  {
   "cell_type": "code",
   "execution_count": null,
   "id": "7de5e56f",
   "metadata": {},
   "outputs": [],
   "source": [
    "# Method I\n",
    "x=np.array([[1,2,3],[4,5,6]],float)      # 2 by 3\n",
    "y=np.array([[1,2],[3,3],[4,5]],float)    # 3 by 2\n",
    "xy=np.dot(x,y)                           # 2 by 2\n",
    "print xy"
   ]
  },
  {
   "cell_type": "code",
   "execution_count": null,
   "id": "8a5fc5b8",
   "metadata": {},
   "outputs": [],
   "source": [
    "# Method II\n",
    "x=np.matrix('1,2,3;4,5,6') \n",
    "y=np.matrix('1,2;3,3;4,5') \n",
    "print x*y"
   ]
  }
 ],
 "metadata": {
  "jupytext": {
   "cell_metadata_filter": "-all",
   "main_language": "python",
   "notebook_metadata_filter": "-all"
  }
 },
 "nbformat": 4,
 "nbformat_minor": 5
}
