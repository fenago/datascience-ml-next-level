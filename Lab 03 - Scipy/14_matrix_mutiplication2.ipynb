{
 "cells": [
  {
   "cell_type": "code",
   "execution_count": null,
   "id": "d3864441",
   "metadata": {},
   "outputs": [],
   "source": [
    "\"\"\"\n",
    "  Name     : 4375OS_06_14_matrix_multiplication2.py\n",
    "  Book     : Python for Finance\n",
    "  Publisher: Packt Publishing Ltd. \n",
    "  Author   : Yuxing Yan\n",
    "  Date     : 12/26/2013\n",
    "  email    : yany@canisius.edu\n",
    "             paulyxy@hotmail.com\n",
    "\"\"\""
   ]
  },
  {
   "cell_type": "code",
   "execution_count": null,
   "id": "37a05360",
   "metadata": {},
   "outputs": [],
   "source": [
    "import numpy as np"
   ]
  },
  {
   "cell_type": "code",
   "execution_count": null,
   "id": "1553bef0",
   "metadata": {},
   "outputs": [],
   "source": [
    "# Method I\n",
    "x=np.array([[1,2,3],[4,5,6]],float)      # 2 by 3\n",
    "y=np.array([[1,2],[3,3],[4,5]],float)    # 3 by 2\n",
    "xy=np.dot(x,y)                           # 2 by 2\n",
    "print xy"
   ]
  },
  {
   "cell_type": "code",
   "execution_count": null,
   "id": "671429f5",
   "metadata": {},
   "outputs": [],
   "source": [
    "# Method II\n",
    "x=np.matrix('1,2,3;4,5,6') \n",
    "y=np.matrix('1,2;3,3;4,5') \n",
    "print x*y"
   ]
  }
 ],
 "metadata": {
  "jupytext": {
   "cell_metadata_filter": "-all",
   "main_language": "python",
   "notebook_metadata_filter": "-all"
  }
 },
 "nbformat": 4,
 "nbformat_minor": 5
}
