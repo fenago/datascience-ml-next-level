{
 "cells": [
  {
   "cell_type": "code",
   "execution_count": null,
   "id": "3b16fa69",
   "metadata": {
    "lines_to_next_cell": 0
   },
   "outputs": [],
   "source": []
  },
  {
   "cell_type": "code",
   "execution_count": null,
   "id": "abf524ad",
   "metadata": {},
   "outputs": [],
   "source": [
    "import numpy as np\n",
    "print dir(np)  \n",
    "x=np.array(dir(np))\n",
    "print 'number of functions contained =', len(x)            # showing the length of the array"
   ]
  },
  {
   "cell_type": "code",
   "execution_count": null,
   "id": "b48758c3",
   "metadata": {},
   "outputs": [],
   "source": [
    "print x[200:210]        "
   ]
  }
 ],
 "metadata": {
  "jupytext": {
   "cell_metadata_filter": "-all",
   "main_language": "python",
   "notebook_metadata_filter": "-all"
  }
 },
 "nbformat": 4,
 "nbformat_minor": 5
}
