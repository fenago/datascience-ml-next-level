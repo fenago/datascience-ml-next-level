{
 "cells": [
  {
   "cell_type": "code",
   "execution_count": null,
   "id": "7a83a06a",
   "metadata": {},
   "outputs": [],
   "source": [
    "\"\"\"\n",
    "  Name     : 4375OS_06_09_show_all_functions_numpy2.py\n",
    "  Book     : Python for Finance\n",
    "  Publisher: Packt Publishing Ltd. \n",
    "  Author   : Yuxing Yan\n",
    "  Date     : 12/26/2013\n",
    "  email    : yany@canisius.edu\n",
    "             paulyxy@hotmail.com\n",
    "\"\"\""
   ]
  },
  {
   "cell_type": "code",
   "execution_count": null,
   "id": "36e8658a",
   "metadata": {},
   "outputs": [],
   "source": [
    "import numpy as np\n",
    "print dir(np)  \n",
    "x=np.array(dir(np))\n",
    "print 'number of functions contained =', len(x)            # showing the length of the array"
   ]
  },
  {
   "cell_type": "code",
   "execution_count": null,
   "id": "cd0fcd2b",
   "metadata": {},
   "outputs": [],
   "source": [
    "print x[200:210]        "
   ]
  }
 ],
 "metadata": {
  "jupytext": {
   "cell_metadata_filter": "-all",
   "main_language": "python",
   "notebook_metadata_filter": "-all"
  }
 },
 "nbformat": 4,
 "nbformat_minor": 5
}
