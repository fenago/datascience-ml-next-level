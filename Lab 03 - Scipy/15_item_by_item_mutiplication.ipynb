{
 "cells": [
  {
   "cell_type": "code",
   "execution_count": null,
   "id": "79258000",
   "metadata": {
    "lines_to_next_cell": 0
   },
   "outputs": [],
   "source": []
  },
  {
   "cell_type": "code",
   "execution_count": null,
   "id": "69e1cf8e",
   "metadata": {},
   "outputs": [],
   "source": [
    "import numpy as np\n",
    "x=np.array([[1,2,3],[4,5,6]],float)    # 2 by 3\n",
    "y=np.array([[2,1,2],[4,0,5]],float)    # 2 by 3\n",
    "xy=x*y                                 # 2 by 3"
   ]
  },
  {
   "cell_type": "code",
   "execution_count": null,
   "id": "4837d263",
   "metadata": {},
   "outputs": [],
   "source": [
    "print x\n",
    "print y\n",
    "print xy"
   ]
  }
 ],
 "metadata": {
  "jupytext": {
   "cell_metadata_filter": "-all",
   "main_language": "python",
   "notebook_metadata_filter": "-all"
  }
 },
 "nbformat": 4,
 "nbformat_minor": 5
}
