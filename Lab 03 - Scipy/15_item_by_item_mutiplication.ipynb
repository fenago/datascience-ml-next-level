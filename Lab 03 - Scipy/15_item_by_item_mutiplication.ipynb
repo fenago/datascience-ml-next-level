{
 "cells": [
  {
   "cell_type": "code",
   "execution_count": null,
   "id": "9042fc40",
   "metadata": {},
   "outputs": [],
   "source": [
    "\"\"\"\n",
    "  Name     : 4375OS_06_15_item_by_item_multiplication.py\n",
    "  Book     : Python for Finance\n",
    "  Publisher: Packt Publishing Ltd. \n",
    "  Author   : Yuxing Yan\n",
    "  Date     : 12/26/2013\n",
    "  email    : yany@canisius.edu\n",
    "             paulyxy@hotmail.com\n",
    "\"\"\""
   ]
  },
  {
   "cell_type": "code",
   "execution_count": null,
   "id": "ea225a72",
   "metadata": {},
   "outputs": [],
   "source": [
    "import numpy as np\n",
    "x=np.array([[1,2,3],[4,5,6]],float)    # 2 by 3\n",
    "y=np.array([[2,1,2],[4,0,5]],float)    # 2 by 3\n",
    "xy=x*y                                 # 2 by 3"
   ]
  },
  {
   "cell_type": "code",
   "execution_count": null,
   "id": "a0d7a6f4",
   "metadata": {},
   "outputs": [],
   "source": [
    "print x\n",
    "print y\n",
    "print xy"
   ]
  }
 ],
 "metadata": {
  "jupytext": {
   "cell_metadata_filter": "-all",
   "main_language": "python",
   "notebook_metadata_filter": "-all"
  }
 },
 "nbformat": 4,
 "nbformat_minor": 5
}
