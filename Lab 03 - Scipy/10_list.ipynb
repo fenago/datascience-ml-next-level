{
 "cells": [
  {
   "cell_type": "code",
   "execution_count": null,
   "id": "e32a45c5",
   "metadata": {},
   "outputs": [],
   "source": [
    "\"\"\"\n",
    "  Name     : 4375OS_06_10_list.py\n",
    "  Book     : Python for Finance\n",
    "  Publisher: Packt Publishing Ltd. \n",
    "  Author   : Yuxing Yan\n",
    "  Date     : 12/26/2013\n",
    "  email    : yany@canisius.edu\n",
    "             paulyxy@hotmail.com\n",
    "\"\"\"\n",
    "x=[1,2,\"John\", \"M\", \"Student\"]"
   ]
  },
  {
   "cell_type": "code",
   "execution_count": null,
   "id": "84aeb1d8",
   "metadata": {},
   "outputs": [],
   "source": [
    "print 'type is ',type(x)"
   ]
  },
  {
   "cell_type": "code",
   "execution_count": null,
   "id": "d7f702cb",
   "metadata": {},
   "outputs": [],
   "source": []
  }
 ],
 "metadata": {
  "jupytext": {
   "cell_metadata_filter": "-all",
   "main_language": "python",
   "notebook_metadata_filter": "-all"
  }
 },
 "nbformat": 4,
 "nbformat_minor": 5
}
