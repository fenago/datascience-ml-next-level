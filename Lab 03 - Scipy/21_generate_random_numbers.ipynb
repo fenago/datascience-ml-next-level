{
 "cells": [
  {
   "cell_type": "code",
   "execution_count": null,
   "id": "56750e27",
   "metadata": {},
   "outputs": [],
   "source": [
    "\"\"\"\n",
    "  Name     : 4375OS_06_21_generate_random_numbers.py\n",
    "  Book     : Python for Finance\n",
    "  Publisher: Packt Publishing Ltd. \n",
    "  Author   : Yuxing Yan\n",
    "  Date     : 12/26/2013\n",
    "  email    : yany@canisius.edu\n",
    "             paulyxy@hotmail.com\n",
    "\"\"\""
   ]
  },
  {
   "cell_type": "code",
   "execution_count": null,
   "id": "b8efdd11",
   "metadata": {},
   "outputs": [],
   "source": [
    "import scipy as sp"
   ]
  },
  {
   "cell_type": "code",
   "execution_count": null,
   "id": "6e1252c5",
   "metadata": {},
   "outputs": [],
   "source": [
    "x=sp.random.rand(10) \t      # 10 random numbers from [0,1)\n",
    "y=sp.random.rand(5,2)        # random numbers 5 by 2 array\n",
    "z=sp.random.normal(0,1,100)  # from a standard normal"
   ]
  },
  {
   "cell_type": "code",
   "execution_count": null,
   "id": "a55a1be8",
   "metadata": {},
   "outputs": [],
   "source": [
    "print 'x=',x\n",
    "print 'y=',y\n",
    "print 'z=',z"
   ]
  }
 ],
 "metadata": {
  "jupytext": {
   "cell_metadata_filter": "-all",
   "main_language": "python",
   "notebook_metadata_filter": "-all"
  }
 },
 "nbformat": 4,
 "nbformat_minor": 5
}
