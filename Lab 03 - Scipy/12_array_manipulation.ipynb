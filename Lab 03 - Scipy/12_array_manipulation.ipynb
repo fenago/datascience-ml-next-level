{
 "cells": [
  {
   "cell_type": "code",
   "execution_count": null,
   "id": "5b92c24a",
   "metadata": {
    "lines_to_next_cell": 0
   },
   "outputs": [],
   "source": []
  },
  {
   "cell_type": "code",
   "execution_count": null,
   "id": "13ff8d58",
   "metadata": {},
   "outputs": [],
   "source": [
    "import numpy as np\n",
    "pv=np.array([[100,10,10.2],[34,22,34]]) # 2 by 3\n",
    "x=pv.flatten()                          #  matrix becomes a vector\n",
    "pv2=np.reshape(x,[3,2])                 # 3 by 2 now"
   ]
  },
  {
   "cell_type": "code",
   "execution_count": null,
   "id": "9247ae4d",
   "metadata": {},
   "outputs": [],
   "source": [
    "print pv\n",
    "print x\n",
    "print pv2"
   ]
  }
 ],
 "metadata": {
  "jupytext": {
   "cell_metadata_filter": "-all",
   "main_language": "python",
   "notebook_metadata_filter": "-all"
  }
 },
 "nbformat": 4,
 "nbformat_minor": 5
}
