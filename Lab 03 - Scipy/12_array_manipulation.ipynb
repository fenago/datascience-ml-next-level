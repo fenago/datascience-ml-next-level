{
 "cells": [
  {
   "cell_type": "code",
   "execution_count": null,
   "id": "e9c9b6fc",
   "metadata": {},
   "outputs": [],
   "source": [
    "\"\"\"\n",
    "  Name     : 4375OS_06_12_array_manipulation.py\n",
    "  Book     : Python for Finance\n",
    "  Publisher: Packt Publishing Ltd. \n",
    "  Author   : Yuxing Yan\n",
    "  Date     : 12/26/2013\n",
    "  email    : yany@canisius.edu\n",
    "             paulyxy@hotmail.com\n",
    "\"\"\""
   ]
  },
  {
   "cell_type": "code",
   "execution_count": null,
   "id": "dc0f3cf0",
   "metadata": {},
   "outputs": [],
   "source": [
    "import numpy as np\n",
    "pv=np.array([[100,10,10.2],[34,22,34]]) # 2 by 3\n",
    "x=pv.flatten()                          #  matrix becomes a vector\n",
    "pv2=np.reshape(x,[3,2])                 # 3 by 2 now"
   ]
  },
  {
   "cell_type": "code",
   "execution_count": null,
   "id": "72ed04c3",
   "metadata": {},
   "outputs": [],
   "source": [
    "print pv\n",
    "print x\n",
    "print pv2"
   ]
  }
 ],
 "metadata": {
  "jupytext": {
   "cell_metadata_filter": "-all",
   "main_language": "python",
   "notebook_metadata_filter": "-all"
  }
 },
 "nbformat": 4,
 "nbformat_minor": 5
}
