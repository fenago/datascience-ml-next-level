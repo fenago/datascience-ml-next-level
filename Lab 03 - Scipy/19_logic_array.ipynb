{
 "cells": [
  {
   "cell_type": "code",
   "execution_count": null,
   "id": "d21fc2fd",
   "metadata": {},
   "outputs": [],
   "source": [
    "\"\"\"\n",
    "  Name     : 4375OS_06_19_logic_array.py\n",
    "  Book     : Python for Finance\n",
    "  Publisher: Packt Publishing Ltd. \n",
    "  Author   : Yuxing Yan\n",
    "  Date     : 12/26/2013\n",
    "  email    : yany@canisius.edu\n",
    "             paulyxy@hotmail.com\n",
    "\"\"\""
   ]
  },
  {
   "cell_type": "code",
   "execution_count": null,
   "id": "77960d82",
   "metadata": {},
   "outputs": [],
   "source": [
    "import numpy as np\n",
    "x=np.array([True,False,True,False],bool)\n",
    "a=any(x)  \t# if one item is TRUE then return TRUE\n",
    "print a"
   ]
  },
  {
   "cell_type": "code",
   "execution_count": null,
   "id": "2120c327",
   "metadata": {},
   "outputs": [],
   "source": [
    "b=all(x)  \t# if all are TRUE then return TRUE\n",
    "print b"
   ]
  },
  {
   "cell_type": "code",
   "execution_count": null,
   "id": "34c4b6ac",
   "metadata": {},
   "outputs": [],
   "source": [
    "cashFlows=np.array([-100,50,40,30,100,-5])\n",
    "a=cashFlows>0  # [False,True,True,True,True,False]\n",
    "print a"
   ]
  },
  {
   "cell_type": "code",
   "execution_count": null,
   "id": "32a9e873",
   "metadata": {
    "lines_to_next_cell": 2
   },
   "outputs": [],
   "source": [
    "d=np.logical_and(cashFlows>0, cashFlows<60)\n",
    "print d"
   ]
  }
 ],
 "metadata": {
  "jupytext": {
   "cell_metadata_filter": "-all",
   "main_language": "python",
   "notebook_metadata_filter": "-all"
  }
 },
 "nbformat": 4,
 "nbformat_minor": 5
}
