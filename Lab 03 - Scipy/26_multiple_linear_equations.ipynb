{
 "cells": [
  {
   "cell_type": "code",
   "execution_count": null,
   "id": "dceed04c",
   "metadata": {},
   "outputs": [],
   "source": [
    "\"\"\"\n",
    "  Name     : 4375OS_06_26_multiple_linear_equations.py\n",
    "  Book     : Python for Finance\n",
    "  Publisher: Packt Publishing Ltd. \n",
    "  Author   : Yuxing Yan\n",
    "  Date     : 12/26/2013\n",
    "  email    : yany@canisius.edu\n",
    "             paulyxy@hotmail.com\n",
    "\"\"\""
   ]
  },
  {
   "cell_type": "code",
   "execution_count": null,
   "id": "250d1ba6",
   "metadata": {},
   "outputs": [],
   "source": [
    "import scipy as sp\n",
    "A=sp.mat('[1 2 5; 2 5 1; 2 3 8]')\n",
    "b = sp.mat('[10;8;5]')"
   ]
  },
  {
   "cell_type": "code",
   "execution_count": null,
   "id": "bf0156fa",
   "metadata": {},
   "outputs": [],
   "source": [
    "print 'A.I*b=', A.I*b      "
   ]
  },
  {
   "cell_type": "code",
   "execution_count": null,
   "id": "46d5865c",
   "metadata": {},
   "outputs": [],
   "source": [
    "print linalg.solve(A,b)  # offer the same solution"
   ]
  }
 ],
 "metadata": {
  "jupytext": {
   "cell_metadata_filter": "-all",
   "main_language": "python",
   "notebook_metadata_filter": "-all"
  }
 },
 "nbformat": 4,
 "nbformat_minor": 5
}
