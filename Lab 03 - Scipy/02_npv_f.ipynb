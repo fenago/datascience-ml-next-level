{
 "cells": [
  {
   "cell_type": "code",
   "execution_count": null,
   "id": "877c99f5",
   "metadata": {},
   "outputs": [],
   "source": [
    "\"\"\"\n",
    "  Name     : 4375OS_06_02_npv_f.py\n",
    "  Book     : Python for Finance\n",
    "  Publisher: Packt Publishing Ltd. \n",
    "  Author   : Yuxing Yan\n",
    "  Date     : 12/26/2013\n",
    "  email    : yany@canisius.edu\n",
    "             paulyxy@hotmail.com\n",
    "\"\"\""
   ]
  },
  {
   "cell_type": "code",
   "execution_count": null,
   "id": "8f8e75e3",
   "metadata": {
    "lines_to_next_cell": 1
   },
   "outputs": [],
   "source": [
    "import numpy as np"
   ]
  },
  {
   "cell_type": "code",
   "execution_count": null,
   "id": "dada876f",
   "metadata": {},
   "outputs": [],
   "source": [
    "def npv_f(rate, values):\n",
    "    cashFlows = np.asarray(values)\n",
    "    return (cashFlows/ (1+rate)**np.arange(1,len(cashFlows)+1)).sum(axis=0)"
   ]
  }
 ],
 "metadata": {
  "jupytext": {
   "cell_metadata_filter": "-all",
   "main_language": "python",
   "notebook_metadata_filter": "-all"
  }
 },
 "nbformat": 4,
 "nbformat_minor": 5
}
