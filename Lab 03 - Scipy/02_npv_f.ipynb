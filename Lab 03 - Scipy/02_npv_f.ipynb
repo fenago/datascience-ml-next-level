{
 "cells": [
  {
   "cell_type": "code",
   "execution_count": null,
   "id": "e2b7cad9",
   "metadata": {
    "lines_to_next_cell": 0
   },
   "outputs": [],
   "source": []
  },
  {
   "cell_type": "code",
   "execution_count": null,
   "id": "35b4d42e",
   "metadata": {
    "lines_to_next_cell": 1
   },
   "outputs": [],
   "source": [
    "import numpy as np"
   ]
  },
  {
   "cell_type": "code",
   "execution_count": null,
   "id": "4f0720bc",
   "metadata": {},
   "outputs": [],
   "source": [
    "def npv_f(rate, values):\n",
    "    cashFlows = np.asarray(values)\n",
    "    return (cashFlows/ (1+rate)**np.arange(1,len(cashFlows)+1)).sum(axis=0)"
   ]
  }
 ],
 "metadata": {
  "jupytext": {
   "cell_metadata_filter": "-all",
   "main_language": "python",
   "notebook_metadata_filter": "-all"
  }
 },
 "nbformat": 4,
 "nbformat_minor": 5
}
